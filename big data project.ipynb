{
 "cells": [
  {
   "cell_type": "code",
   "execution_count": 15,
   "id": "1cd839c4",
   "metadata": {},
   "outputs": [],
   "source": [
    "import pandas as pd\n",
    "\n",
    "df1=pd.read_csv(r\"C:\\Users\\El-Wattaneya\\Desktop\\BD_Project\\BD_Project\\audi.csv\")"
   ]
  },
  {
   "cell_type": "code",
   "execution_count": 16,
   "id": "adf5b85e",
   "metadata": {},
   "outputs": [
    {
     "data": {
      "text/html": [
       "<div>\n",
       "<style scoped>\n",
       "    .dataframe tbody tr th:only-of-type {\n",
       "        vertical-align: middle;\n",
       "    }\n",
       "\n",
       "    .dataframe tbody tr th {\n",
       "        vertical-align: top;\n",
       "    }\n",
       "\n",
       "    .dataframe thead th {\n",
       "        text-align: right;\n",
       "    }\n",
       "</style>\n",
       "<table border=\"1\" class=\"dataframe\">\n",
       "  <thead>\n",
       "    <tr style=\"text-align: right;\">\n",
       "      <th></th>\n",
       "      <th>model</th>\n",
       "      <th>year</th>\n",
       "      <th>price</th>\n",
       "      <th>transmission</th>\n",
       "      <th>mileage</th>\n",
       "      <th>fuelType</th>\n",
       "      <th>tax</th>\n",
       "      <th>mpg</th>\n",
       "      <th>engineSize</th>\n",
       "    </tr>\n",
       "  </thead>\n",
       "  <tbody>\n",
       "    <tr>\n",
       "      <th>0</th>\n",
       "      <td>A1</td>\n",
       "      <td>2017</td>\n",
       "      <td>12500</td>\n",
       "      <td>Manual</td>\n",
       "      <td>15735</td>\n",
       "      <td>Petrol</td>\n",
       "      <td>150</td>\n",
       "      <td>55.4</td>\n",
       "      <td>1.4</td>\n",
       "    </tr>\n",
       "    <tr>\n",
       "      <th>1</th>\n",
       "      <td>A6</td>\n",
       "      <td>2016</td>\n",
       "      <td>16500</td>\n",
       "      <td>Automatic</td>\n",
       "      <td>36203</td>\n",
       "      <td>Diesel</td>\n",
       "      <td>20</td>\n",
       "      <td>64.2</td>\n",
       "      <td>2.0</td>\n",
       "    </tr>\n",
       "    <tr>\n",
       "      <th>2</th>\n",
       "      <td>A1</td>\n",
       "      <td>2016</td>\n",
       "      <td>11000</td>\n",
       "      <td>Manual</td>\n",
       "      <td>29946</td>\n",
       "      <td>Petrol</td>\n",
       "      <td>30</td>\n",
       "      <td>55.4</td>\n",
       "      <td>1.4</td>\n",
       "    </tr>\n",
       "    <tr>\n",
       "      <th>3</th>\n",
       "      <td>A4</td>\n",
       "      <td>2017</td>\n",
       "      <td>16800</td>\n",
       "      <td>Automatic</td>\n",
       "      <td>25952</td>\n",
       "      <td>Diesel</td>\n",
       "      <td>145</td>\n",
       "      <td>67.3</td>\n",
       "      <td>2.0</td>\n",
       "    </tr>\n",
       "    <tr>\n",
       "      <th>4</th>\n",
       "      <td>A3</td>\n",
       "      <td>2019</td>\n",
       "      <td>17300</td>\n",
       "      <td>Manual</td>\n",
       "      <td>1998</td>\n",
       "      <td>Petrol</td>\n",
       "      <td>145</td>\n",
       "      <td>49.6</td>\n",
       "      <td>1.0</td>\n",
       "    </tr>\n",
       "    <tr>\n",
       "      <th>...</th>\n",
       "      <td>...</td>\n",
       "      <td>...</td>\n",
       "      <td>...</td>\n",
       "      <td>...</td>\n",
       "      <td>...</td>\n",
       "      <td>...</td>\n",
       "      <td>...</td>\n",
       "      <td>...</td>\n",
       "      <td>...</td>\n",
       "    </tr>\n",
       "    <tr>\n",
       "      <th>10663</th>\n",
       "      <td>A3</td>\n",
       "      <td>2020</td>\n",
       "      <td>16999</td>\n",
       "      <td>Manual</td>\n",
       "      <td>4018</td>\n",
       "      <td>Petrol</td>\n",
       "      <td>145</td>\n",
       "      <td>49.6</td>\n",
       "      <td>1.0</td>\n",
       "    </tr>\n",
       "    <tr>\n",
       "      <th>10664</th>\n",
       "      <td>A3</td>\n",
       "      <td>2020</td>\n",
       "      <td>16999</td>\n",
       "      <td>Manual</td>\n",
       "      <td>1978</td>\n",
       "      <td>Petrol</td>\n",
       "      <td>150</td>\n",
       "      <td>49.6</td>\n",
       "      <td>1.0</td>\n",
       "    </tr>\n",
       "    <tr>\n",
       "      <th>10665</th>\n",
       "      <td>A3</td>\n",
       "      <td>2020</td>\n",
       "      <td>17199</td>\n",
       "      <td>Manual</td>\n",
       "      <td>609</td>\n",
       "      <td>Petrol</td>\n",
       "      <td>150</td>\n",
       "      <td>49.6</td>\n",
       "      <td>1.0</td>\n",
       "    </tr>\n",
       "    <tr>\n",
       "      <th>10666</th>\n",
       "      <td>Q3</td>\n",
       "      <td>2017</td>\n",
       "      <td>19499</td>\n",
       "      <td>Automatic</td>\n",
       "      <td>8646</td>\n",
       "      <td>Petrol</td>\n",
       "      <td>150</td>\n",
       "      <td>47.9</td>\n",
       "      <td>1.4</td>\n",
       "    </tr>\n",
       "    <tr>\n",
       "      <th>10667</th>\n",
       "      <td>Q3</td>\n",
       "      <td>2016</td>\n",
       "      <td>15999</td>\n",
       "      <td>Manual</td>\n",
       "      <td>11855</td>\n",
       "      <td>Petrol</td>\n",
       "      <td>150</td>\n",
       "      <td>47.9</td>\n",
       "      <td>1.4</td>\n",
       "    </tr>\n",
       "  </tbody>\n",
       "</table>\n",
       "<p>10668 rows × 9 columns</p>\n",
       "</div>"
      ],
      "text/plain": [
       "      model  year  price transmission  mileage fuelType  tax   mpg  engineSize\n",
       "0        A1  2017  12500       Manual    15735   Petrol  150  55.4         1.4\n",
       "1        A6  2016  16500    Automatic    36203   Diesel   20  64.2         2.0\n",
       "2        A1  2016  11000       Manual    29946   Petrol   30  55.4         1.4\n",
       "3        A4  2017  16800    Automatic    25952   Diesel  145  67.3         2.0\n",
       "4        A3  2019  17300       Manual     1998   Petrol  145  49.6         1.0\n",
       "...     ...   ...    ...          ...      ...      ...  ...   ...         ...\n",
       "10663    A3  2020  16999       Manual     4018   Petrol  145  49.6         1.0\n",
       "10664    A3  2020  16999       Manual     1978   Petrol  150  49.6         1.0\n",
       "10665    A3  2020  17199       Manual      609   Petrol  150  49.6         1.0\n",
       "10666    Q3  2017  19499    Automatic     8646   Petrol  150  47.9         1.4\n",
       "10667    Q3  2016  15999       Manual    11855   Petrol  150  47.9         1.4\n",
       "\n",
       "[10668 rows x 9 columns]"
      ]
     },
     "execution_count": 16,
     "metadata": {},
     "output_type": "execute_result"
    }
   ],
   "source": [
    "df1"
   ]
  },
  {
   "cell_type": "markdown",
   "id": "61852b27",
   "metadata": {},
   "source": [
    "# Main Problem in preprocessing"
   ]
  },
  {
   "cell_type": "markdown",
   "id": "65e69a17",
   "metadata": {},
   "source": [
    "\n",
    "- check duplicated and handle it\n",
    "- check Null Values \n",
    "- The problem initially was that missing data or NaN values were replaced with zeros.\n",
    "- The first step I took was to revert those values back to NaN."
   ]
  },
  {
   "cell_type": "code",
   "execution_count": 17,
   "id": "e89915dd",
   "metadata": {},
   "outputs": [
    {
     "name": "stdout",
     "output_type": "stream",
     "text": [
      "<class 'pandas.core.frame.DataFrame'>\n",
      "RangeIndex: 10668 entries, 0 to 10667\n",
      "Data columns (total 9 columns):\n",
      " #   Column        Non-Null Count  Dtype  \n",
      "---  ------        --------------  -----  \n",
      " 0   model         10668 non-null  object \n",
      " 1   year          10668 non-null  int64  \n",
      " 2   price         10668 non-null  int64  \n",
      " 3   transmission  10668 non-null  object \n",
      " 4   mileage       10668 non-null  int64  \n",
      " 5   fuelType      10668 non-null  object \n",
      " 6   tax           10668 non-null  int64  \n",
      " 7   mpg           10668 non-null  float64\n",
      " 8   engineSize    10668 non-null  float64\n",
      "dtypes: float64(2), int64(4), object(3)\n",
      "memory usage: 750.2+ KB\n"
     ]
    }
   ],
   "source": [
    "df1.info()"
   ]
  },
  {
   "cell_type": "code",
   "execution_count": 18,
   "id": "9abe444f",
   "metadata": {
    "scrolled": true
   },
   "outputs": [
    {
     "data": {
      "text/html": [
       "<div>\n",
       "<style scoped>\n",
       "    .dataframe tbody tr th:only-of-type {\n",
       "        vertical-align: middle;\n",
       "    }\n",
       "\n",
       "    .dataframe tbody tr th {\n",
       "        vertical-align: top;\n",
       "    }\n",
       "\n",
       "    .dataframe thead th {\n",
       "        text-align: right;\n",
       "    }\n",
       "</style>\n",
       "<table border=\"1\" class=\"dataframe\">\n",
       "  <thead>\n",
       "    <tr style=\"text-align: right;\">\n",
       "      <th></th>\n",
       "      <th>model</th>\n",
       "      <th>year</th>\n",
       "      <th>price</th>\n",
       "      <th>transmission</th>\n",
       "      <th>mileage</th>\n",
       "      <th>fuelType</th>\n",
       "      <th>tax</th>\n",
       "      <th>mpg</th>\n",
       "      <th>engineSize</th>\n",
       "    </tr>\n",
       "  </thead>\n",
       "  <tbody>\n",
       "    <tr>\n",
       "      <th>0</th>\n",
       "      <td>A1</td>\n",
       "      <td>2017</td>\n",
       "      <td>12500</td>\n",
       "      <td>Manual</td>\n",
       "      <td>15735</td>\n",
       "      <td>Petrol</td>\n",
       "      <td>150</td>\n",
       "      <td>55.4</td>\n",
       "      <td>1.4</td>\n",
       "    </tr>\n",
       "    <tr>\n",
       "      <th>1</th>\n",
       "      <td>A6</td>\n",
       "      <td>2016</td>\n",
       "      <td>16500</td>\n",
       "      <td>Automatic</td>\n",
       "      <td>36203</td>\n",
       "      <td>Diesel</td>\n",
       "      <td>20</td>\n",
       "      <td>64.2</td>\n",
       "      <td>2.0</td>\n",
       "    </tr>\n",
       "    <tr>\n",
       "      <th>2</th>\n",
       "      <td>A1</td>\n",
       "      <td>2016</td>\n",
       "      <td>11000</td>\n",
       "      <td>Manual</td>\n",
       "      <td>29946</td>\n",
       "      <td>Petrol</td>\n",
       "      <td>30</td>\n",
       "      <td>55.4</td>\n",
       "      <td>1.4</td>\n",
       "    </tr>\n",
       "    <tr>\n",
       "      <th>3</th>\n",
       "      <td>A4</td>\n",
       "      <td>2017</td>\n",
       "      <td>16800</td>\n",
       "      <td>Automatic</td>\n",
       "      <td>25952</td>\n",
       "      <td>Diesel</td>\n",
       "      <td>145</td>\n",
       "      <td>67.3</td>\n",
       "      <td>2.0</td>\n",
       "    </tr>\n",
       "    <tr>\n",
       "      <th>4</th>\n",
       "      <td>A3</td>\n",
       "      <td>2019</td>\n",
       "      <td>17300</td>\n",
       "      <td>Manual</td>\n",
       "      <td>1998</td>\n",
       "      <td>Petrol</td>\n",
       "      <td>145</td>\n",
       "      <td>49.6</td>\n",
       "      <td>1.0</td>\n",
       "    </tr>\n",
       "    <tr>\n",
       "      <th>5</th>\n",
       "      <td>A1</td>\n",
       "      <td>2016</td>\n",
       "      <td>13900</td>\n",
       "      <td>Automatic</td>\n",
       "      <td>32260</td>\n",
       "      <td>Petrol</td>\n",
       "      <td>30</td>\n",
       "      <td>58.9</td>\n",
       "      <td>1.4</td>\n",
       "    </tr>\n",
       "    <tr>\n",
       "      <th>6</th>\n",
       "      <td>A6</td>\n",
       "      <td>2016</td>\n",
       "      <td>13250</td>\n",
       "      <td>Automatic</td>\n",
       "      <td>76788</td>\n",
       "      <td>Diesel</td>\n",
       "      <td>30</td>\n",
       "      <td>61.4</td>\n",
       "      <td>2.0</td>\n",
       "    </tr>\n",
       "    <tr>\n",
       "      <th>7</th>\n",
       "      <td>A4</td>\n",
       "      <td>2016</td>\n",
       "      <td>11750</td>\n",
       "      <td>Manual</td>\n",
       "      <td>75185</td>\n",
       "      <td>Diesel</td>\n",
       "      <td>20</td>\n",
       "      <td>70.6</td>\n",
       "      <td>2.0</td>\n",
       "    </tr>\n",
       "    <tr>\n",
       "      <th>8</th>\n",
       "      <td>A3</td>\n",
       "      <td>2015</td>\n",
       "      <td>10200</td>\n",
       "      <td>Manual</td>\n",
       "      <td>46112</td>\n",
       "      <td>Petrol</td>\n",
       "      <td>20</td>\n",
       "      <td>60.1</td>\n",
       "      <td>1.4</td>\n",
       "    </tr>\n",
       "    <tr>\n",
       "      <th>9</th>\n",
       "      <td>A1</td>\n",
       "      <td>2016</td>\n",
       "      <td>12000</td>\n",
       "      <td>Manual</td>\n",
       "      <td>22451</td>\n",
       "      <td>Petrol</td>\n",
       "      <td>30</td>\n",
       "      <td>55.4</td>\n",
       "      <td>1.4</td>\n",
       "    </tr>\n",
       "  </tbody>\n",
       "</table>\n",
       "</div>"
      ],
      "text/plain": [
       "  model  year  price transmission  mileage fuelType  tax   mpg  engineSize\n",
       "0    A1  2017  12500       Manual    15735   Petrol  150  55.4         1.4\n",
       "1    A6  2016  16500    Automatic    36203   Diesel   20  64.2         2.0\n",
       "2    A1  2016  11000       Manual    29946   Petrol   30  55.4         1.4\n",
       "3    A4  2017  16800    Automatic    25952   Diesel  145  67.3         2.0\n",
       "4    A3  2019  17300       Manual     1998   Petrol  145  49.6         1.0\n",
       "5    A1  2016  13900    Automatic    32260   Petrol   30  58.9         1.4\n",
       "6    A6  2016  13250    Automatic    76788   Diesel   30  61.4         2.0\n",
       "7    A4  2016  11750       Manual    75185   Diesel   20  70.6         2.0\n",
       "8    A3  2015  10200       Manual    46112   Petrol   20  60.1         1.4\n",
       "9    A1  2016  12000       Manual    22451   Petrol   30  55.4         1.4"
      ]
     },
     "execution_count": 18,
     "metadata": {},
     "output_type": "execute_result"
    }
   ],
   "source": [
    "df1.head(10)\n"
   ]
  },
  {
   "cell_type": "code",
   "execution_count": 19,
   "id": "49504c10",
   "metadata": {},
   "outputs": [
    {
     "data": {
      "text/plain": [
       "0        False\n",
       "1        False\n",
       "2        False\n",
       "3        False\n",
       "4        False\n",
       "         ...  \n",
       "10663    False\n",
       "10664    False\n",
       "10665    False\n",
       "10666    False\n",
       "10667    False\n",
       "Length: 10668, dtype: bool"
      ]
     },
     "execution_count": 19,
     "metadata": {},
     "output_type": "execute_result"
    }
   ],
   "source": [
    "df1.duplicated()"
   ]
  },
  {
   "cell_type": "code",
   "execution_count": 20,
   "id": "df9a43a5",
   "metadata": {},
   "outputs": [
    {
     "data": {
      "text/plain": [
       "model           0\n",
       "year            0\n",
       "price           0\n",
       "transmission    0\n",
       "mileage         0\n",
       "fuelType        0\n",
       "tax             0\n",
       "mpg             0\n",
       "engineSize      0\n",
       "dtype: int64"
      ]
     },
     "execution_count": 20,
     "metadata": {},
     "output_type": "execute_result"
    }
   ],
   "source": [
    "df1.isna().sum()"
   ]
  },
  {
   "cell_type": "code",
   "execution_count": 21,
   "id": "17d3956b",
   "metadata": {},
   "outputs": [
    {
     "name": "stdout",
     "output_type": "stream",
     "text": [
      "0        False\n",
      "1        False\n",
      "2        False\n",
      "3        False\n",
      "4        False\n",
      "         ...  \n",
      "10663    False\n",
      "10664    False\n",
      "10665    False\n",
      "10666    False\n",
      "10667    False\n",
      "Length: 10668, dtype: bool\n"
     ]
    }
   ],
   "source": [
    "print (df1.isna().any(axis=1))"
   ]
  },
  {
   "cell_type": "code",
   "execution_count": 22,
   "id": "86e9d303",
   "metadata": {},
   "outputs": [
    {
     "name": "stdout",
     "output_type": "stream",
     "text": [
      "0        False\n",
      "1        False\n",
      "2        False\n",
      "3        False\n",
      "4        False\n",
      "         ...  \n",
      "10663    False\n",
      "10664    False\n",
      "10665    False\n",
      "10666    False\n",
      "10667    False\n",
      "Name: price, Length: 10668, dtype: bool\n"
     ]
    }
   ],
   "source": [
    "print(df1['price'].isnull())"
   ]
  },
  {
   "cell_type": "code",
   "execution_count": 23,
   "id": "6a3fda7b",
   "metadata": {},
   "outputs": [],
   "source": [
    "# Drop duplicates in-place\n",
    "df1.drop_duplicates(inplace=True) #### دي كانت بتحقظ فال csv ع طول"
   ]
  },
  {
   "cell_type": "code",
   "execution_count": 24,
   "id": "2fff4174",
   "metadata": {},
   "outputs": [
    {
     "data": {
      "text/plain": [
       "0"
      ]
     },
     "execution_count": 24,
     "metadata": {},
     "output_type": "execute_result"
    }
   ],
   "source": [
    "df1.duplicated().sum()"
   ]
  },
  {
   "cell_type": "code",
   "execution_count": 25,
   "id": "dc250370",
   "metadata": {},
   "outputs": [
    {
     "name": "stdout",
     "output_type": "stream",
     "text": [
      "عدد الصفوف في الداتاست: 10565\n"
     ]
    }
   ],
   "source": [
    "num_rows = df1.shape[0]\n",
    "print(f\"عدد الصفوف في الداتاست: {num_rows}\")\n",
    "\n"
   ]
  },
  {
   "cell_type": "code",
   "execution_count": 26,
   "id": "8a91f16c",
   "metadata": {},
   "outputs": [],
   "source": [
    "import numpy as np \n",
    "df1.replace(0, np.nan, inplace=True) #replace Zero with NaN\n"
   ]
  },
  {
   "cell_type": "code",
   "execution_count": 28,
   "id": "15d71575",
   "metadata": {},
   "outputs": [
    {
     "data": {
      "text/plain": [
       "model             0\n",
       "year              0\n",
       "price             0\n",
       "transmission      0\n",
       "mileage           0\n",
       "fuelType          0\n",
       "tax             534\n",
       "mpg               0\n",
       "engineSize       52\n",
       "dtype: int64"
      ]
     },
     "execution_count": 28,
     "metadata": {},
     "output_type": "execute_result"
    }
   ],
   "source": [
    "df1.isna().sum()"
   ]
  },
  {
   "cell_type": "code",
   "execution_count": 29,
   "id": "c65b4fe2",
   "metadata": {},
   "outputs": [
    {
     "data": {
      "text/plain": [
       "array([150.,  20.,  30., 145., 125., 200.,  nan, 205., 160., 235., 260.,\n",
       "       325., 300., 165., 240., 565., 265., 135., 570., 555., 140., 330.,\n",
       "       305., 155., 580., 290., 195., 115., 295., 220., 230., 280., 315.,\n",
       "       535., 190., 540., 515.])"
      ]
     },
     "execution_count": 29,
     "metadata": {},
     "output_type": "execute_result"
    }
   ],
   "source": [
    "df1.tax.unique()"
   ]
  },
  {
   "cell_type": "code",
   "execution_count": 31,
   "id": "2b68aa17",
   "metadata": {},
   "outputs": [
    {
     "data": {
      "text/plain": [
       "132.6119031003888"
      ]
     },
     "execution_count": 31,
     "metadata": {},
     "output_type": "execute_result"
    }
   ],
   "source": [
    "df1.tax.mean()"
   ]
  },
  {
   "cell_type": "code",
   "execution_count": 51,
   "id": "8b32a7dd",
   "metadata": {},
   "outputs": [
    {
     "data": {
      "text/html": [
       "<div>\n",
       "<style scoped>\n",
       "    .dataframe tbody tr th:only-of-type {\n",
       "        vertical-align: middle;\n",
       "    }\n",
       "\n",
       "    .dataframe tbody tr th {\n",
       "        vertical-align: top;\n",
       "    }\n",
       "\n",
       "    .dataframe thead th {\n",
       "        text-align: right;\n",
       "    }\n",
       "</style>\n",
       "<table border=\"1\" class=\"dataframe\">\n",
       "  <thead>\n",
       "    <tr style=\"text-align: right;\">\n",
       "      <th></th>\n",
       "      <th>model</th>\n",
       "      <th>year</th>\n",
       "      <th>price</th>\n",
       "      <th>transmission</th>\n",
       "      <th>mileage</th>\n",
       "      <th>fuelType</th>\n",
       "      <th>tax</th>\n",
       "      <th>mpg</th>\n",
       "      <th>engineSize</th>\n",
       "    </tr>\n",
       "  </thead>\n",
       "  <tbody>\n",
       "    <tr>\n",
       "      <th>0</th>\n",
       "      <td>0</td>\n",
       "      <td>2017</td>\n",
       "      <td>12500</td>\n",
       "      <td>1</td>\n",
       "      <td>15735</td>\n",
       "      <td>2</td>\n",
       "      <td>150.0</td>\n",
       "      <td>55.4</td>\n",
       "      <td>1.4</td>\n",
       "    </tr>\n",
       "    <tr>\n",
       "      <th>1</th>\n",
       "      <td>5</td>\n",
       "      <td>2016</td>\n",
       "      <td>16500</td>\n",
       "      <td>0</td>\n",
       "      <td>36203</td>\n",
       "      <td>0</td>\n",
       "      <td>20.0</td>\n",
       "      <td>64.2</td>\n",
       "      <td>2.0</td>\n",
       "    </tr>\n",
       "    <tr>\n",
       "      <th>2</th>\n",
       "      <td>0</td>\n",
       "      <td>2016</td>\n",
       "      <td>11000</td>\n",
       "      <td>1</td>\n",
       "      <td>29946</td>\n",
       "      <td>2</td>\n",
       "      <td>30.0</td>\n",
       "      <td>55.4</td>\n",
       "      <td>1.4</td>\n",
       "    </tr>\n",
       "    <tr>\n",
       "      <th>3</th>\n",
       "      <td>3</td>\n",
       "      <td>2017</td>\n",
       "      <td>16800</td>\n",
       "      <td>0</td>\n",
       "      <td>25952</td>\n",
       "      <td>0</td>\n",
       "      <td>145.0</td>\n",
       "      <td>67.3</td>\n",
       "      <td>2.0</td>\n",
       "    </tr>\n",
       "    <tr>\n",
       "      <th>4</th>\n",
       "      <td>2</td>\n",
       "      <td>2019</td>\n",
       "      <td>17300</td>\n",
       "      <td>1</td>\n",
       "      <td>1998</td>\n",
       "      <td>2</td>\n",
       "      <td>145.0</td>\n",
       "      <td>49.6</td>\n",
       "      <td>1.0</td>\n",
       "    </tr>\n",
       "    <tr>\n",
       "      <th>...</th>\n",
       "      <td>...</td>\n",
       "      <td>...</td>\n",
       "      <td>...</td>\n",
       "      <td>...</td>\n",
       "      <td>...</td>\n",
       "      <td>...</td>\n",
       "      <td>...</td>\n",
       "      <td>...</td>\n",
       "      <td>...</td>\n",
       "    </tr>\n",
       "    <tr>\n",
       "      <th>10663</th>\n",
       "      <td>2</td>\n",
       "      <td>2020</td>\n",
       "      <td>16999</td>\n",
       "      <td>1</td>\n",
       "      <td>4018</td>\n",
       "      <td>2</td>\n",
       "      <td>145.0</td>\n",
       "      <td>49.6</td>\n",
       "      <td>1.0</td>\n",
       "    </tr>\n",
       "    <tr>\n",
       "      <th>10664</th>\n",
       "      <td>2</td>\n",
       "      <td>2020</td>\n",
       "      <td>16999</td>\n",
       "      <td>1</td>\n",
       "      <td>1978</td>\n",
       "      <td>2</td>\n",
       "      <td>150.0</td>\n",
       "      <td>49.6</td>\n",
       "      <td>1.0</td>\n",
       "    </tr>\n",
       "    <tr>\n",
       "      <th>10665</th>\n",
       "      <td>2</td>\n",
       "      <td>2020</td>\n",
       "      <td>17199</td>\n",
       "      <td>1</td>\n",
       "      <td>609</td>\n",
       "      <td>2</td>\n",
       "      <td>150.0</td>\n",
       "      <td>49.6</td>\n",
       "      <td>1.0</td>\n",
       "    </tr>\n",
       "    <tr>\n",
       "      <th>10666</th>\n",
       "      <td>9</td>\n",
       "      <td>2017</td>\n",
       "      <td>19499</td>\n",
       "      <td>0</td>\n",
       "      <td>8646</td>\n",
       "      <td>2</td>\n",
       "      <td>150.0</td>\n",
       "      <td>47.9</td>\n",
       "      <td>1.4</td>\n",
       "    </tr>\n",
       "    <tr>\n",
       "      <th>10667</th>\n",
       "      <td>9</td>\n",
       "      <td>2016</td>\n",
       "      <td>15999</td>\n",
       "      <td>1</td>\n",
       "      <td>11855</td>\n",
       "      <td>2</td>\n",
       "      <td>150.0</td>\n",
       "      <td>47.9</td>\n",
       "      <td>1.4</td>\n",
       "    </tr>\n",
       "  </tbody>\n",
       "</table>\n",
       "<p>10565 rows × 9 columns</p>\n",
       "</div>"
      ],
      "text/plain": [
       "       model  year  price  transmission  mileage  fuelType    tax   mpg  \\\n",
       "0          0  2017  12500             1    15735         2  150.0  55.4   \n",
       "1          5  2016  16500             0    36203         0   20.0  64.2   \n",
       "2          0  2016  11000             1    29946         2   30.0  55.4   \n",
       "3          3  2017  16800             0    25952         0  145.0  67.3   \n",
       "4          2  2019  17300             1     1998         2  145.0  49.6   \n",
       "...      ...   ...    ...           ...      ...       ...    ...   ...   \n",
       "10663      2  2020  16999             1     4018         2  145.0  49.6   \n",
       "10664      2  2020  16999             1     1978         2  150.0  49.6   \n",
       "10665      2  2020  17199             1      609         2  150.0  49.6   \n",
       "10666      9  2017  19499             0     8646         2  150.0  47.9   \n",
       "10667      9  2016  15999             1    11855         2  150.0  47.9   \n",
       "\n",
       "       engineSize  \n",
       "0             1.4  \n",
       "1             2.0  \n",
       "2             1.4  \n",
       "3             2.0  \n",
       "4             1.0  \n",
       "...           ...  \n",
       "10663         1.0  \n",
       "10664         1.0  \n",
       "10665         1.0  \n",
       "10666         1.4  \n",
       "10667         1.4  \n",
       "\n",
       "[10565 rows x 9 columns]"
      ]
     },
     "execution_count": 51,
     "metadata": {},
     "output_type": "execute_result"
    }
   ],
   "source": [
    "#replace with mean\n",
    "mean_tax = df1['tax'].mean()\n",
    "df1['tax'].fillna(mean_tax, inplace=True) \n",
    "df1"
   ]
  },
  {
   "cell_type": "code",
   "execution_count": 52,
   "id": "61e34779",
   "metadata": {},
   "outputs": [
    {
     "data": {
      "text/plain": [
       "model           0\n",
       "year            0\n",
       "price           0\n",
       "transmission    0\n",
       "mileage         0\n",
       "fuelType        0\n",
       "tax             0\n",
       "mpg             0\n",
       "engineSize      0\n",
       "dtype: int64"
      ]
     },
     "execution_count": 52,
     "metadata": {},
     "output_type": "execute_result"
    }
   ],
   "source": [
    "df1.isna().sum()"
   ]
  },
  {
   "cell_type": "code",
   "execution_count": 53,
   "id": "7f4c8b01",
   "metadata": {},
   "outputs": [
    {
     "data": {
      "text/plain": [
       "array([1.4       , 2.        , 1.        , 3.        , 1.6       ,\n",
       "       1.8       , 1.5       , 4.        , 2.5       , 1.2       ,\n",
       "       4.2       , 2.9       , 5.2       , 1.9       , 2.7       ,\n",
       "       1.94253781, 3.2       , 4.1       , 6.3       ])"
      ]
     },
     "execution_count": 53,
     "metadata": {},
     "output_type": "execute_result"
    }
   ],
   "source": [
    "df1.engineSize.unique()"
   ]
  },
  {
   "cell_type": "code",
   "execution_count": 54,
   "id": "53d9bb05",
   "metadata": {},
   "outputs": [
    {
     "data": {
      "text/plain": [
       "1.9425378103300674"
      ]
     },
     "execution_count": 54,
     "metadata": {},
     "output_type": "execute_result"
    }
   ],
   "source": [
    "df1.engineSize.mean()"
   ]
  },
  {
   "cell_type": "code",
   "execution_count": 55,
   "id": "ce8ba16c",
   "metadata": {},
   "outputs": [],
   "source": [
    "#replace with mean\n",
    "\n",
    "mean_engine = df1['engineSize'].mean()\n",
    "df1['engineSize'].fillna(mean_engine, inplace=True)\n"
   ]
  },
  {
   "cell_type": "code",
   "execution_count": 56,
   "id": "76c40926",
   "metadata": {},
   "outputs": [
    {
     "data": {
      "text/html": [
       "<div>\n",
       "<style scoped>\n",
       "    .dataframe tbody tr th:only-of-type {\n",
       "        vertical-align: middle;\n",
       "    }\n",
       "\n",
       "    .dataframe tbody tr th {\n",
       "        vertical-align: top;\n",
       "    }\n",
       "\n",
       "    .dataframe thead th {\n",
       "        text-align: right;\n",
       "    }\n",
       "</style>\n",
       "<table border=\"1\" class=\"dataframe\">\n",
       "  <thead>\n",
       "    <tr style=\"text-align: right;\">\n",
       "      <th></th>\n",
       "      <th>model</th>\n",
       "      <th>year</th>\n",
       "      <th>price</th>\n",
       "      <th>transmission</th>\n",
       "      <th>mileage</th>\n",
       "      <th>fuelType</th>\n",
       "      <th>tax</th>\n",
       "      <th>mpg</th>\n",
       "      <th>engineSize</th>\n",
       "    </tr>\n",
       "  </thead>\n",
       "  <tbody>\n",
       "    <tr>\n",
       "      <th>count</th>\n",
       "      <td>10565.000000</td>\n",
       "      <td>10565</td>\n",
       "      <td>10565.000000</td>\n",
       "      <td>10565.000000</td>\n",
       "      <td>10565.000000</td>\n",
       "      <td>10565.000000</td>\n",
       "      <td>10565.000000</td>\n",
       "      <td>10565.000000</td>\n",
       "      <td>10565.000000</td>\n",
       "    </tr>\n",
       "    <tr>\n",
       "      <th>unique</th>\n",
       "      <td>NaN</td>\n",
       "      <td>21</td>\n",
       "      <td>NaN</td>\n",
       "      <td>NaN</td>\n",
       "      <td>NaN</td>\n",
       "      <td>NaN</td>\n",
       "      <td>NaN</td>\n",
       "      <td>NaN</td>\n",
       "      <td>NaN</td>\n",
       "    </tr>\n",
       "    <tr>\n",
       "      <th>top</th>\n",
       "      <td>NaN</td>\n",
       "      <td>2019</td>\n",
       "      <td>NaN</td>\n",
       "      <td>NaN</td>\n",
       "      <td>NaN</td>\n",
       "      <td>NaN</td>\n",
       "      <td>NaN</td>\n",
       "      <td>NaN</td>\n",
       "      <td>NaN</td>\n",
       "    </tr>\n",
       "    <tr>\n",
       "      <th>freq</th>\n",
       "      <td>NaN</td>\n",
       "      <td>3139</td>\n",
       "      <td>NaN</td>\n",
       "      <td>NaN</td>\n",
       "      <td>NaN</td>\n",
       "      <td>NaN</td>\n",
       "      <td>NaN</td>\n",
       "      <td>NaN</td>\n",
       "      <td>NaN</td>\n",
       "    </tr>\n",
       "    <tr>\n",
       "      <th>mean</th>\n",
       "      <td>5.826787</td>\n",
       "      <td>NaN</td>\n",
       "      <td>22853.956081</td>\n",
       "      <td>1.084051</td>\n",
       "      <td>24955.960530</td>\n",
       "      <td>0.949172</td>\n",
       "      <td>132.611903</td>\n",
       "      <td>50.837558</td>\n",
       "      <td>1.942538</td>\n",
       "    </tr>\n",
       "    <tr>\n",
       "      <th>std</th>\n",
       "      <td>5.206099</td>\n",
       "      <td>NaN</td>\n",
       "      <td>11723.076767</td>\n",
       "      <td>0.764446</td>\n",
       "      <td>23448.942551</td>\n",
       "      <td>0.997427</td>\n",
       "      <td>60.826978</td>\n",
       "      <td>12.963337</td>\n",
       "      <td>0.587373</td>\n",
       "    </tr>\n",
       "    <tr>\n",
       "      <th>min</th>\n",
       "      <td>0.000000</td>\n",
       "      <td>NaN</td>\n",
       "      <td>1490.000000</td>\n",
       "      <td>0.000000</td>\n",
       "      <td>1.000000</td>\n",
       "      <td>0.000000</td>\n",
       "      <td>20.000000</td>\n",
       "      <td>18.900000</td>\n",
       "      <td>1.000000</td>\n",
       "    </tr>\n",
       "    <tr>\n",
       "      <th>25%</th>\n",
       "      <td>2.000000</td>\n",
       "      <td>NaN</td>\n",
       "      <td>15000.000000</td>\n",
       "      <td>0.000000</td>\n",
       "      <td>6000.000000</td>\n",
       "      <td>0.000000</td>\n",
       "      <td>132.611903</td>\n",
       "      <td>40.900000</td>\n",
       "      <td>1.500000</td>\n",
       "    </tr>\n",
       "    <tr>\n",
       "      <th>50%</th>\n",
       "      <td>4.000000</td>\n",
       "      <td>NaN</td>\n",
       "      <td>20000.000000</td>\n",
       "      <td>1.000000</td>\n",
       "      <td>19268.000000</td>\n",
       "      <td>0.000000</td>\n",
       "      <td>145.000000</td>\n",
       "      <td>49.600000</td>\n",
       "      <td>2.000000</td>\n",
       "    </tr>\n",
       "    <tr>\n",
       "      <th>75%</th>\n",
       "      <td>9.000000</td>\n",
       "      <td>NaN</td>\n",
       "      <td>27990.000000</td>\n",
       "      <td>2.000000</td>\n",
       "      <td>36668.000000</td>\n",
       "      <td>2.000000</td>\n",
       "      <td>145.000000</td>\n",
       "      <td>58.900000</td>\n",
       "      <td>2.000000</td>\n",
       "    </tr>\n",
       "    <tr>\n",
       "      <th>max</th>\n",
       "      <td>25.000000</td>\n",
       "      <td>NaN</td>\n",
       "      <td>145000.000000</td>\n",
       "      <td>2.000000</td>\n",
       "      <td>323000.000000</td>\n",
       "      <td>2.000000</td>\n",
       "      <td>580.000000</td>\n",
       "      <td>188.300000</td>\n",
       "      <td>6.300000</td>\n",
       "    </tr>\n",
       "  </tbody>\n",
       "</table>\n",
       "</div>"
      ],
      "text/plain": [
       "               model   year          price  transmission        mileage  \\\n",
       "count   10565.000000  10565   10565.000000  10565.000000   10565.000000   \n",
       "unique           NaN     21            NaN           NaN            NaN   \n",
       "top              NaN   2019            NaN           NaN            NaN   \n",
       "freq             NaN   3139            NaN           NaN            NaN   \n",
       "mean        5.826787    NaN   22853.956081      1.084051   24955.960530   \n",
       "std         5.206099    NaN   11723.076767      0.764446   23448.942551   \n",
       "min         0.000000    NaN    1490.000000      0.000000       1.000000   \n",
       "25%         2.000000    NaN   15000.000000      0.000000    6000.000000   \n",
       "50%         4.000000    NaN   20000.000000      1.000000   19268.000000   \n",
       "75%         9.000000    NaN   27990.000000      2.000000   36668.000000   \n",
       "max        25.000000    NaN  145000.000000      2.000000  323000.000000   \n",
       "\n",
       "            fuelType           tax           mpg    engineSize  \n",
       "count   10565.000000  10565.000000  10565.000000  10565.000000  \n",
       "unique           NaN           NaN           NaN           NaN  \n",
       "top              NaN           NaN           NaN           NaN  \n",
       "freq             NaN           NaN           NaN           NaN  \n",
       "mean        0.949172    132.611903     50.837558      1.942538  \n",
       "std         0.997427     60.826978     12.963337      0.587373  \n",
       "min         0.000000     20.000000     18.900000      1.000000  \n",
       "25%         0.000000    132.611903     40.900000      1.500000  \n",
       "50%         0.000000    145.000000     49.600000      2.000000  \n",
       "75%         2.000000    145.000000     58.900000      2.000000  \n",
       "max         2.000000    580.000000    188.300000      6.300000  "
      ]
     },
     "execution_count": 56,
     "metadata": {},
     "output_type": "execute_result"
    }
   ],
   "source": [
    "df1.describe(include=\"all\")"
   ]
  },
  {
   "cell_type": "code",
   "execution_count": 57,
   "id": "dcb34e5b",
   "metadata": {},
   "outputs": [
    {
     "data": {
      "text/plain": [
       "model           0\n",
       "year            0\n",
       "price           0\n",
       "transmission    0\n",
       "mileage         0\n",
       "fuelType        0\n",
       "tax             0\n",
       "mpg             0\n",
       "engineSize      0\n",
       "dtype: int64"
      ]
     },
     "execution_count": 57,
     "metadata": {},
     "output_type": "execute_result"
    }
   ],
   "source": [
    "df1.isna().sum()"
   ]
  },
  {
   "cell_type": "markdown",
   "id": "7ed8651d",
   "metadata": {},
   "source": [
    "# Visualization"
   ]
  },
  {
   "cell_type": "code",
   "execution_count": 58,
   "id": "6934d825",
   "metadata": {
    "scrolled": false
   },
   "outputs": [
    {
     "data": {
      "text/plain": [
       "<AxesSubplot: xlabel='year'>"
      ]
     },
     "execution_count": 58,
     "metadata": {},
     "output_type": "execute_result"
    },
    {
     "data": {
      "image/png": "[encoded data removed]",
      "text/plain": [
       "<Figure size 640x480 with 1 Axes>"
      ]
     },
     "metadata": {},
     "output_type": "display_data"
    }
   ],
   "source": [
    "import pandas as pd\n",
    "\n",
    "# تحويل القيم في العمود \"price\" إلى نوع رقمي\n",
    "df1['price'] = pd.to_numeric(df1['price'], errors='coerce')\n",
    "\n",
    "# تجميع البيانات بحسب السنة وحساب المتوسط للعمود \"price\"\n",
    "result = df1.groupby('year')['price'].mean()\n",
    "\n",
    "# رسم النتائج كرسم بياني من نوع \"bar\"\n",
    "result.plot(kind=\"bar\")\n",
    "#متوسط اسعار السيارت عبر السنوات\n"
   ]
  },
  {
   "cell_type": "code",
   "execution_count": 59,
   "id": "9e07a824",
   "metadata": {},
   "outputs": [
    {
     "data": {
      "image/png": "[encoded data removed]",
      "text/plain": [
       "<Figure size 1000x600 with 1 Axes>"
      ]
     },
     "metadata": {},
     "output_type": "display_data"
    }
   ],
   "source": [
    "import matplotlib.pyplot as plt\n",
    "\n",
    "plt.figure(figsize=(10, 6))\n",
    "plt.scatter(df1['year'], df1['price'])\n",
    "plt.title('Scatter Plot for Price vs Year')\n",
    "plt.xlabel('Year')\n",
    "plt.ylabel('Price')\n",
    "plt.show()\n",
    "#رسم Scatter Plot لعلاقة السعر بالعام:\n",
    "\n",
    "#يظهر كيف يتغير السعر على مر السنوات.\n"
   ]
  },
  {
   "cell_type": "code",
   "execution_count": 60,
   "id": "b35c7378",
   "metadata": {},
   "outputs": [
    {
     "data": {
      "image/png": "[encoded data removed]",
      "text/plain": [
       "<Figure size 1000x600 with 1 Axes>"
      ]
     },
     "metadata": {},
     "output_type": "display_data"
    }
   ],
   "source": [
    "plt.figure(figsize=(10, 6))\n",
    "plt.hist(df1['price'], bins=20, color='skyblue', edgecolor='black')\n",
    "plt.title('Histogram for Car Prices')\n",
    "plt.xlabel('Price')\n",
    "plt.ylabel('Frequency')\n",
    "plt.show()\n",
    "#عدد السيارات في نفس الفئه السعريه"
   ]
  },
  {
   "cell_type": "code",
   "execution_count": 61,
   "id": "785894bc",
   "metadata": {},
   "outputs": [
    {
     "data": {
      "image/png": "[encoded data removed]",
      "text/plain": [
       "<Figure size 1200x800 with 1 Axes>"
      ]
     },
     "metadata": {},
     "output_type": "display_data"
    }
   ],
   "source": [
    "import seaborn as sns\n",
    "\n",
    "plt.figure(figsize=(12, 8))\n",
    "sns.boxplot(x='fuelType', y='price', data=df1)\n",
    "plt.title('Box Plot for Price by Fuel Type')\n",
    "plt.xlabel('Fuel Type')\n",
    "plt.ylabel('Price')\n",
    "plt.show()\n",
    "# فيه تلت انواع وقود بفئات سعريه مختلفة وكل ما حجم ال box  زاد كل ما سعر الوقود دا كان مختلف "
   ]
  },
  {
   "cell_type": "code",
   "execution_count": 62,
   "id": "44db48c8",
   "metadata": {},
   "outputs": [
    {
     "data": {
      "image/png": "[encoded data removed]",
      "text/plain": [
       "<Figure size 1000x600 with 1 Axes>"
      ]
     },
     "metadata": {},
     "output_type": "display_data"
    }
   ],
   "source": [
    "df1['year'] = df1['year'].astype(str)  # يمكن تحويل السنة إلى نص لتجنب تحويلها إلى فئات رقمية.\n",
    "\n",
    "plt.figure(figsize=(10, 6))\n",
    "df1.groupby('year')['price'].mean().plot(kind='bar', color='lightcoral')\n",
    "plt.title('Average Price by Year')\n",
    "plt.xlabel('Year')\n",
    "plt.ylabel('Average Price')\n",
    "plt.show()\n"
   ]
  },
  {
   "cell_type": "code",
   "execution_count": 63,
   "id": "81ff86d7",
   "metadata": {},
   "outputs": [
    {
     "data": {
      "image/png": "[encoded data removed]",
      "text/plain": [
       "<Figure size 750x750 with 12 Axes>"
      ]
     },
     "metadata": {},
     "output_type": "display_data"
    }
   ],
   "source": [
    "import seaborn as sns\n",
    "\n",
    "sns.pairplot(df1[['price', 'mileage', 'mpg']])\n",
    "plt.title('Pair Plot for Price, Mileage, and MPG')\n",
    "plt.show()\n"
   ]
  },
  {
   "cell_type": "code",
   "execution_count": 64,
   "id": "d3a2773b",
   "metadata": {},
   "outputs": [
    {
     "name": "stderr",
     "output_type": "stream",
     "text": [
      "C:\\Users\\Public\\Documents\\Wondershare\\CreatorTemp\\ipykernel_9516\\1304966617.py:4: FutureWarning: \n",
      "\n",
      "Passing `palette` without assigning `hue` is deprecated and will be removed in v0.14.0. Assign the `x` variable to `hue` and set `legend=False` for the same effect.\n",
      "\n",
      "  sns.countplot(x='transmission', data=df1, palette='viridis')\n"
     ]
    },
    {
     "data": {
      "image/png": "[encoded data removed]",
      "text/plain": [
       "<Figure size 1000x600 with 1 Axes>"
      ]
     },
     "metadata": {},
     "output_type": "display_data"
    }
   ],
   "source": [
    "import seaborn as sns\n",
    "\n",
    "plt.figure(figsize=(10, 6))\n",
    "sns.countplot(x='transmission', data=df1, palette='viridis')\n",
    "plt.title('Count Plot for Transmission Types')\n",
    "plt.xlabel('Transmission Type')\n",
    "plt.ylabel('Count')\n",
    "plt.show()\n"
   ]
  },
  {
   "cell_type": "code",
   "execution_count": 65,
   "id": "9825da0e",
   "metadata": {},
   "outputs": [
    {
     "data": {
      "image/png": "[encoded data removed]",
      "text/plain": [
       "<Figure size 1000x600 with 1 Axes>"
      ]
     },
     "metadata": {},
     "output_type": "display_data"
    }
   ],
   "source": [
    "#ظهار العلاقة بين المسافة المقطوعة والسعر.\n",
    "plt.figure(figsize=(10, 6))\n",
    "plt.scatter(df1['mileage'], df1['price'], color='coral', alpha=0.7)\n",
    "plt.title('Scatter Plot for Mileage and Price')\n",
    "plt.xlabel('Mileage')\n",
    "plt.ylabel('Price')\n",
    "plt.show()\n"
   ]
  },
  {
   "cell_type": "code",
   "execution_count": 66,
   "id": "4462429d",
   "metadata": {},
   "outputs": [
    {
     "data": {
      "image/png": "[encoded data removed]",
      "text/plain": [
       "<Figure size 1000x600 with 1 Axes>"
      ]
     },
     "metadata": {},
     "output_type": "display_data"
    }
   ],
   "source": [
    "#عرض متوسط السعر لكل نوع وقود.\n",
    "\n",
    "plt.figure(figsize=(10, 6))\n",
    "df1.groupby('fuelType')['price'].mean().sort_values().plot(kind='barh', color='lightgreen')\n",
    "plt.title('Average Price by Fuel Type')\n",
    "plt.xlabel('Average Price')\n",
    "plt.ylabel('Fuel Type')\n",
    "plt.show()\n"
   ]
  },
  {
   "cell_type": "code",
   "execution_count": 67,
   "id": "29d2791e",
   "metadata": {},
   "outputs": [
    {
     "name": "stdout",
     "output_type": "stream",
     "text": [
      "<class 'pandas.core.frame.DataFrame'>\n",
      "Int64Index: 10565 entries, 0 to 10667\n",
      "Data columns (total 9 columns):\n",
      " #   Column        Non-Null Count  Dtype  \n",
      "---  ------        --------------  -----  \n",
      " 0   model         10565 non-null  int32  \n",
      " 1   year          10565 non-null  object \n",
      " 2   price         10565 non-null  int64  \n",
      " 3   transmission  10565 non-null  int32  \n",
      " 4   mileage       10565 non-null  int64  \n",
      " 5   fuelType      10565 non-null  int32  \n",
      " 6   tax           10565 non-null  float64\n",
      " 7   mpg           10565 non-null  float64\n",
      " 8   engineSize    10565 non-null  float64\n",
      "dtypes: float64(3), int32(3), int64(2), object(1)\n",
      "memory usage: 701.6+ KB\n"
     ]
    }
   ],
   "source": [
    "df1.info()"
   ]
  },
  {
   "cell_type": "code",
   "execution_count": 68,
   "id": "9fc5900f",
   "metadata": {},
   "outputs": [
    {
     "name": "stdout",
     "output_type": "stream",
     "text": [
      "       model  year  price  transmission  mileage  fuelType    tax   mpg  \\\n",
      "0          0  2017  12500             1    15735         2  150.0  55.4   \n",
      "1          5  2016  16500             0    36203         0   20.0  64.2   \n",
      "2          0  2016  11000             1    29946         2   30.0  55.4   \n",
      "3          3  2017  16800             0    25952         0  145.0  67.3   \n",
      "4          2  2019  17300             1     1998         2  145.0  49.6   \n",
      "...      ...   ...    ...           ...      ...       ...    ...   ...   \n",
      "10663      2  2020  16999             1     4018         2  145.0  49.6   \n",
      "10664      2  2020  16999             1     1978         2  150.0  49.6   \n",
      "10665      2  2020  17199             1      609         2  150.0  49.6   \n",
      "10666      9  2017  19499             0     8646         2  150.0  47.9   \n",
      "10667      9  2016  15999             1    11855         2  150.0  47.9   \n",
      "\n",
      "       engineSize  \n",
      "0             1.4  \n",
      "1             2.0  \n",
      "2             1.4  \n",
      "3             2.0  \n",
      "4             1.0  \n",
      "...           ...  \n",
      "10663         1.0  \n",
      "10664         1.0  \n",
      "10665         1.0  \n",
      "10666         1.4  \n",
      "10667         1.4  \n",
      "\n",
      "[10565 rows x 9 columns]\n"
     ]
    }
   ],
   "source": [
    "from sklearn.preprocessing import LabelEncoder\n",
    "\n",
    "le = LabelEncoder()\n",
    "\n",
    "label = le.fit_transform(df1['model'])\n",
    "\n",
    "columns_to_encode = ['model','transmission','fuelType']  \n",
    "\n",
    "# Encode specific columns\n",
    "for col in columns_to_encode:\n",
    "    df1[col] = le.fit_transform(df1[col])\n",
    "\n",
    "\n",
    "print(df1)\n",
    "\n",
    "###################################"
   ]
  },
  {
   "cell_type": "markdown",
   "id": "706b54ad",
   "metadata": {},
   "source": [
    "# Normalization"
   ]
  },
  {
   "cell_type": "code",
   "execution_count": 69,
   "id": "08f50bcb",
   "metadata": {},
   "outputs": [],
   "source": [
    "x = df1.drop(['price'], axis=1)  # Check for case sensitivity\n"
   ]
  },
  {
   "cell_type": "code",
   "execution_count": 70,
   "id": "f34f79e3",
   "metadata": {},
   "outputs": [],
   "source": [
    "df1.columns = df1.columns.str.strip()  # Remove leading/trailing whitespaces from column names"
   ]
  },
  {
   "cell_type": "code",
   "execution_count": 71,
   "id": "f17df0fd",
   "metadata": {},
   "outputs": [],
   "source": [
    "y = df1['price']"
   ]
  },
  {
   "cell_type": "code",
   "execution_count": 72,
   "id": "7e5e9c30",
   "metadata": {},
   "outputs": [
    {
     "data": {
      "text/html": [
       "<div>\n",
       "<style scoped>\n",
       "    .dataframe tbody tr th:only-of-type {\n",
       "        vertical-align: middle;\n",
       "    }\n",
       "\n",
       "    .dataframe tbody tr th {\n",
       "        vertical-align: top;\n",
       "    }\n",
       "\n",
       "    .dataframe thead th {\n",
       "        text-align: right;\n",
       "    }\n",
       "</style>\n",
       "<table border=\"1\" class=\"dataframe\">\n",
       "  <thead>\n",
       "    <tr style=\"text-align: right;\">\n",
       "      <th></th>\n",
       "      <th>model</th>\n",
       "      <th>year</th>\n",
       "      <th>transmission</th>\n",
       "      <th>mileage</th>\n",
       "      <th>fuelType</th>\n",
       "      <th>tax</th>\n",
       "      <th>mpg</th>\n",
       "      <th>engineSize</th>\n",
       "    </tr>\n",
       "  </thead>\n",
       "  <tbody>\n",
       "    <tr>\n",
       "      <th>0</th>\n",
       "      <td>0</td>\n",
       "      <td>2017</td>\n",
       "      <td>1</td>\n",
       "      <td>15735</td>\n",
       "      <td>2</td>\n",
       "      <td>150.0</td>\n",
       "      <td>55.4</td>\n",
       "      <td>1.4</td>\n",
       "    </tr>\n",
       "    <tr>\n",
       "      <th>1</th>\n",
       "      <td>5</td>\n",
       "      <td>2016</td>\n",
       "      <td>0</td>\n",
       "      <td>36203</td>\n",
       "      <td>0</td>\n",
       "      <td>20.0</td>\n",
       "      <td>64.2</td>\n",
       "      <td>2.0</td>\n",
       "    </tr>\n",
       "    <tr>\n",
       "      <th>2</th>\n",
       "      <td>0</td>\n",
       "      <td>2016</td>\n",
       "      <td>1</td>\n",
       "      <td>29946</td>\n",
       "      <td>2</td>\n",
       "      <td>30.0</td>\n",
       "      <td>55.4</td>\n",
       "      <td>1.4</td>\n",
       "    </tr>\n",
       "    <tr>\n",
       "      <th>3</th>\n",
       "      <td>3</td>\n",
       "      <td>2017</td>\n",
       "      <td>0</td>\n",
       "      <td>25952</td>\n",
       "      <td>0</td>\n",
       "      <td>145.0</td>\n",
       "      <td>67.3</td>\n",
       "      <td>2.0</td>\n",
       "    </tr>\n",
       "    <tr>\n",
       "      <th>4</th>\n",
       "      <td>2</td>\n",
       "      <td>2019</td>\n",
       "      <td>1</td>\n",
       "      <td>1998</td>\n",
       "      <td>2</td>\n",
       "      <td>145.0</td>\n",
       "      <td>49.6</td>\n",
       "      <td>1.0</td>\n",
       "    </tr>\n",
       "    <tr>\n",
       "      <th>...</th>\n",
       "      <td>...</td>\n",
       "      <td>...</td>\n",
       "      <td>...</td>\n",
       "      <td>...</td>\n",
       "      <td>...</td>\n",
       "      <td>...</td>\n",
       "      <td>...</td>\n",
       "      <td>...</td>\n",
       "    </tr>\n",
       "    <tr>\n",
       "      <th>10663</th>\n",
       "      <td>2</td>\n",
       "      <td>2020</td>\n",
       "      <td>1</td>\n",
       "      <td>4018</td>\n",
       "      <td>2</td>\n",
       "      <td>145.0</td>\n",
       "      <td>49.6</td>\n",
       "      <td>1.0</td>\n",
       "    </tr>\n",
       "    <tr>\n",
       "      <th>10664</th>\n",
       "      <td>2</td>\n",
       "      <td>2020</td>\n",
       "      <td>1</td>\n",
       "      <td>1978</td>\n",
       "      <td>2</td>\n",
       "      <td>150.0</td>\n",
       "      <td>49.6</td>\n",
       "      <td>1.0</td>\n",
       "    </tr>\n",
       "    <tr>\n",
       "      <th>10665</th>\n",
       "      <td>2</td>\n",
       "      <td>2020</td>\n",
       "      <td>1</td>\n",
       "      <td>609</td>\n",
       "      <td>2</td>\n",
       "      <td>150.0</td>\n",
       "      <td>49.6</td>\n",
       "      <td>1.0</td>\n",
       "    </tr>\n",
       "    <tr>\n",
       "      <th>10666</th>\n",
       "      <td>9</td>\n",
       "      <td>2017</td>\n",
       "      <td>0</td>\n",
       "      <td>8646</td>\n",
       "      <td>2</td>\n",
       "      <td>150.0</td>\n",
       "      <td>47.9</td>\n",
       "      <td>1.4</td>\n",
       "    </tr>\n",
       "    <tr>\n",
       "      <th>10667</th>\n",
       "      <td>9</td>\n",
       "      <td>2016</td>\n",
       "      <td>1</td>\n",
       "      <td>11855</td>\n",
       "      <td>2</td>\n",
       "      <td>150.0</td>\n",
       "      <td>47.9</td>\n",
       "      <td>1.4</td>\n",
       "    </tr>\n",
       "  </tbody>\n",
       "</table>\n",
       "<p>10565 rows × 8 columns</p>\n",
       "</div>"
      ],
      "text/plain": [
       "       model  year  transmission  mileage  fuelType    tax   mpg  engineSize\n",
       "0          0  2017             1    15735         2  150.0  55.4         1.4\n",
       "1          5  2016             0    36203         0   20.0  64.2         2.0\n",
       "2          0  2016             1    29946         2   30.0  55.4         1.4\n",
       "3          3  2017             0    25952         0  145.0  67.3         2.0\n",
       "4          2  2019             1     1998         2  145.0  49.6         1.0\n",
       "...      ...   ...           ...      ...       ...    ...   ...         ...\n",
       "10663      2  2020             1     4018         2  145.0  49.6         1.0\n",
       "10664      2  2020             1     1978         2  150.0  49.6         1.0\n",
       "10665      2  2020             1      609         2  150.0  49.6         1.0\n",
       "10666      9  2017             0     8646         2  150.0  47.9         1.4\n",
       "10667      9  2016             1    11855         2  150.0  47.9         1.4\n",
       "\n",
       "[10565 rows x 8 columns]"
      ]
     },
     "execution_count": 72,
     "metadata": {},
     "output_type": "execute_result"
    }
   ],
   "source": [
    "x"
   ]
  },
  {
   "cell_type": "code",
   "execution_count": 73,
   "id": "ee96869f",
   "metadata": {},
   "outputs": [
    {
     "name": "stdout",
     "output_type": "stream",
     "text": [
      "       model      year  transmission   mileage  fuelType       tax       mpg  \\\n",
      "0       0.00  0.869565           0.5  0.048712       1.0  0.232143  0.215466   \n",
      "1       0.20  0.826087           0.0  0.112081       0.0  0.000000  0.267414   \n",
      "2       0.00  0.826087           0.5  0.092709       1.0  0.017857  0.215466   \n",
      "3       0.12  0.869565           0.0  0.080344       0.0  0.223214  0.285714   \n",
      "4       0.08  0.956522           0.5  0.006183       1.0  0.223214  0.181228   \n",
      "...      ...       ...           ...       ...       ...       ...       ...   \n",
      "10560   0.08  1.000000           0.5  0.012437       1.0  0.223214  0.181228   \n",
      "10561   0.08  1.000000           0.5  0.006121       1.0  0.232143  0.181228   \n",
      "10562   0.08  1.000000           0.5  0.001882       1.0  0.232143  0.181228   \n",
      "10563   0.36  0.869565           0.0  0.026765       1.0  0.232143  0.171192   \n",
      "10564   0.36  0.826087           0.5  0.036700       1.0  0.232143  0.171192   \n",
      "\n",
      "       engineSize  \n",
      "0        0.075472  \n",
      "1        0.188679  \n",
      "2        0.075472  \n",
      "3        0.188679  \n",
      "4        0.000000  \n",
      "...           ...  \n",
      "10560    0.000000  \n",
      "10561    0.000000  \n",
      "10562    0.000000  \n",
      "10563    0.075472  \n",
      "10564    0.075472  \n",
      "\n",
      "[10565 rows x 8 columns]\n"
     ]
    }
   ],
   "source": [
    "import pandas as pd\n",
    "from sklearn.preprocessing import MinMaxScaler\n",
    "\n",
    "# Assuming you have a DataFrame named 'df1'\n",
    "# Replace 'df' with the actual name of your DataFrame\n",
    "\n",
    "# Initialize the MinMaxScaler\n",
    "scaler = MinMaxScaler()\n",
    "\n",
    "# Normalize all values in the dataset\n",
    "df = pd.DataFrame(scaler.fit_transform(x), columns=x.columns)\n",
    "\n",
    "# Print the normalized DataFrame\n",
    "print(df)\n"
   ]
  },
  {
   "cell_type": "code",
   "execution_count": 74,
   "id": "a43dcc27",
   "metadata": {},
   "outputs": [
    {
     "data": {
      "text/plain": [
       "0        12500\n",
       "1        16500\n",
       "2        11000\n",
       "3        16800\n",
       "4        17300\n",
       "         ...  \n",
       "10663    16999\n",
       "10664    16999\n",
       "10665    17199\n",
       "10666    19499\n",
       "10667    15999\n",
       "Name: price, Length: 10565, dtype: int64"
      ]
     },
     "execution_count": 74,
     "metadata": {},
     "output_type": "execute_result"
    }
   ],
   "source": [
    "y"
   ]
  },
  {
   "cell_type": "code",
   "execution_count": 75,
   "id": "27ad6f0b",
   "metadata": {},
   "outputs": [
    {
     "name": "stdout",
     "output_type": "stream",
     "text": [
      "Training set size: 8452\n",
      "Testing set size: 2113\n"
     ]
    }
   ],
   "source": [
    "# تحديد المتغيرات المستقلة (features) والمتغير التابع (target)\n",
    "from sklearn.model_selection import train_test_split\n",
    "# تقسيم البيانات إلى مجموعة تدريب ومجموعة اختبار\n",
    "X_train, X_test, y_train, y_test = train_test_split(df, y, test_size=0.2, random_state=42)\n",
    "\n",
    "# يمكنك طباعة أحجام المجموعات للتحقق\n",
    "print(f'Training set size: {len(X_train)}')\n",
    "print(f'Testing set size: {len(X_test)}')\n",
    "\n"
   ]
  },
  {
   "cell_type": "markdown",
   "id": "339bbb4c",
   "metadata": {},
   "source": [
    "# Gradient Boosting Regressor"
   ]
  },
  {
   "cell_type": "code",
   "execution_count": 76,
   "id": "bd7b3689",
   "metadata": {},
   "outputs": [
    {
     "name": "stdout",
     "output_type": "stream",
     "text": [
      "R-squared on Training Set: 0.9529633699785658\n",
      "R-squared on Test Set: 0.9412887504033716\n"
     ]
    }
   ],
   "source": [
    "import pandas as pd\n",
    "from sklearn.model_selection import train_test_split\n",
    "from sklearn.ensemble import GradientBoostingRegressor\n",
    "from sklearn.metrics import mean_squared_error, r2_score\n",
    "\n",
    "\n",
    "\n",
    "# Initialize the Gradient Boosting Regressor model\n",
    "gb_regressor = GradientBoostingRegressor(random_state=42)\n",
    "\n",
    "# Train the model on the training data\n",
    "gb_regressor.fit(X_train, y_train)\n",
    "\n",
    "# Make predictions on the training set\n",
    "y_train_pred = gb_regressor.predict(X_train)\n",
    "\n",
    "# Calculate and print R-squared for the training set\n",
    "r2_train = r2_score(y_train, y_train_pred)\n",
    "print(f'R-squared on Training Set: {r2_train}')\n",
    "\n",
    "# Make predictions on the test set\n",
    "y_test_pred = gb_regressor.predict(X_test)\n",
    "\n",
    "# Calculate and print R-squared for the test set\n",
    "r2_test = r2_score(y_test, y_test_pred)\n",
    "print(f'R-squared on Test Set: {r2_test}')\n"
   ]
  },
  {
   "cell_type": "markdown",
   "id": "1faacd08",
   "metadata": {},
   "source": [
    "# Save best model as Pickle"
   ]
  },
  {
   "cell_type": "code",
   "execution_count": 77,
   "id": "7ec0b5f8",
   "metadata": {},
   "outputs": [],
   "source": [
    "\n",
    "import pickle\n",
    "\n",
    "# Assuming you have a trained model named 'svr_model'\n",
    "# Replace 'svr_model' with the actual name of your model\n",
    "\n",
    "# Save the model to a file using pickle\n",
    "with open('gb_regressor.pkl', 'wb') as file:\n",
    "    pickle.dump(gb_regressor, file)\n"
   ]
  },
  {
   "cell_type": "code",
   "execution_count": 78,
   "id": "067ce955",
   "metadata": {},
   "outputs": [
    {
     "data": {
      "text/html": [
       "<div>\n",
       "<style scoped>\n",
       "    .dataframe tbody tr th:only-of-type {\n",
       "        vertical-align: middle;\n",
       "    }\n",
       "\n",
       "    .dataframe tbody tr th {\n",
       "        vertical-align: top;\n",
       "    }\n",
       "\n",
       "    .dataframe thead th {\n",
       "        text-align: right;\n",
       "    }\n",
       "</style>\n",
       "<table border=\"1\" class=\"dataframe\">\n",
       "  <thead>\n",
       "    <tr style=\"text-align: right;\">\n",
       "      <th></th>\n",
       "      <th>model</th>\n",
       "      <th>year</th>\n",
       "      <th>transmission</th>\n",
       "      <th>mileage</th>\n",
       "      <th>fuelType</th>\n",
       "      <th>tax</th>\n",
       "      <th>mpg</th>\n",
       "      <th>engineSize</th>\n",
       "    </tr>\n",
       "  </thead>\n",
       "  <tbody>\n",
       "    <tr>\n",
       "      <th>9330</th>\n",
       "      <td>0.44</td>\n",
       "      <td>0.956522</td>\n",
       "      <td>0.0</td>\n",
       "      <td>0.000028</td>\n",
       "      <td>0.0</td>\n",
       "      <td>0.223214</td>\n",
       "      <td>0.086777</td>\n",
       "      <td>0.377358</td>\n",
       "    </tr>\n",
       "    <tr>\n",
       "      <th>9298</th>\n",
       "      <td>0.16</td>\n",
       "      <td>0.956522</td>\n",
       "      <td>0.0</td>\n",
       "      <td>0.024966</td>\n",
       "      <td>0.0</td>\n",
       "      <td>0.223214</td>\n",
       "      <td>0.185950</td>\n",
       "      <td>0.188679</td>\n",
       "    </tr>\n",
       "    <tr>\n",
       "      <th>334</th>\n",
       "      <td>0.08</td>\n",
       "      <td>0.956522</td>\n",
       "      <td>0.0</td>\n",
       "      <td>0.006985</td>\n",
       "      <td>0.0</td>\n",
       "      <td>0.223214</td>\n",
       "      <td>0.197166</td>\n",
       "      <td>0.113208</td>\n",
       "    </tr>\n",
       "    <tr>\n",
       "      <th>1613</th>\n",
       "      <td>0.00</td>\n",
       "      <td>0.826087</td>\n",
       "      <td>0.5</td>\n",
       "      <td>0.092316</td>\n",
       "      <td>1.0</td>\n",
       "      <td>0.201093</td>\n",
       "      <td>0.285714</td>\n",
       "      <td>0.000000</td>\n",
       "    </tr>\n",
       "    <tr>\n",
       "      <th>5121</th>\n",
       "      <td>0.12</td>\n",
       "      <td>0.739130</td>\n",
       "      <td>1.0</td>\n",
       "      <td>0.088263</td>\n",
       "      <td>0.0</td>\n",
       "      <td>0.187500</td>\n",
       "      <td>0.228453</td>\n",
       "      <td>0.188679</td>\n",
       "    </tr>\n",
       "    <tr>\n",
       "      <th>...</th>\n",
       "      <td>...</td>\n",
       "      <td>...</td>\n",
       "      <td>...</td>\n",
       "      <td>...</td>\n",
       "      <td>...</td>\n",
       "      <td>...</td>\n",
       "      <td>...</td>\n",
       "      <td>...</td>\n",
       "    </tr>\n",
       "    <tr>\n",
       "      <th>5734</th>\n",
       "      <td>0.08</td>\n",
       "      <td>0.956522</td>\n",
       "      <td>1.0</td>\n",
       "      <td>0.018898</td>\n",
       "      <td>0.0</td>\n",
       "      <td>0.232143</td>\n",
       "      <td>0.185950</td>\n",
       "      <td>0.188679</td>\n",
       "    </tr>\n",
       "    <tr>\n",
       "      <th>5191</th>\n",
       "      <td>0.36</td>\n",
       "      <td>0.956522</td>\n",
       "      <td>1.0</td>\n",
       "      <td>0.019706</td>\n",
       "      <td>1.0</td>\n",
       "      <td>0.223214</td>\n",
       "      <td>0.080283</td>\n",
       "      <td>0.188679</td>\n",
       "    </tr>\n",
       "    <tr>\n",
       "      <th>5390</th>\n",
       "      <td>0.40</td>\n",
       "      <td>0.695652</td>\n",
       "      <td>1.0</td>\n",
       "      <td>0.153558</td>\n",
       "      <td>0.0</td>\n",
       "      <td>0.428571</td>\n",
       "      <td>0.133412</td>\n",
       "      <td>0.377358</td>\n",
       "    </tr>\n",
       "    <tr>\n",
       "      <th>860</th>\n",
       "      <td>0.36</td>\n",
       "      <td>1.000000</td>\n",
       "      <td>1.0</td>\n",
       "      <td>0.001622</td>\n",
       "      <td>1.0</td>\n",
       "      <td>0.223214</td>\n",
       "      <td>0.129870</td>\n",
       "      <td>0.094340</td>\n",
       "    </tr>\n",
       "    <tr>\n",
       "      <th>7270</th>\n",
       "      <td>0.08</td>\n",
       "      <td>0.782609</td>\n",
       "      <td>1.0</td>\n",
       "      <td>0.109991</td>\n",
       "      <td>1.0</td>\n",
       "      <td>0.000000</td>\n",
       "      <td>0.243211</td>\n",
       "      <td>0.075472</td>\n",
       "    </tr>\n",
       "  </tbody>\n",
       "</table>\n",
       "<p>8452 rows × 8 columns</p>\n",
       "</div>"
      ],
      "text/plain": [
       "      model      year  transmission   mileage  fuelType       tax       mpg  \\\n",
       "9330   0.44  0.956522           0.0  0.000028       0.0  0.223214  0.086777   \n",
       "9298   0.16  0.956522           0.0  0.024966       0.0  0.223214  0.185950   \n",
       "334    0.08  0.956522           0.0  0.006985       0.0  0.223214  0.197166   \n",
       "1613   0.00  0.826087           0.5  0.092316       1.0  0.201093  0.285714   \n",
       "5121   0.12  0.739130           1.0  0.088263       0.0  0.187500  0.228453   \n",
       "...     ...       ...           ...       ...       ...       ...       ...   \n",
       "5734   0.08  0.956522           1.0  0.018898       0.0  0.232143  0.185950   \n",
       "5191   0.36  0.956522           1.0  0.019706       1.0  0.223214  0.080283   \n",
       "5390   0.40  0.695652           1.0  0.153558       0.0  0.428571  0.133412   \n",
       "860    0.36  1.000000           1.0  0.001622       1.0  0.223214  0.129870   \n",
       "7270   0.08  0.782609           1.0  0.109991       1.0  0.000000  0.243211   \n",
       "\n",
       "      engineSize  \n",
       "9330    0.377358  \n",
       "9298    0.188679  \n",
       "334     0.113208  \n",
       "1613    0.000000  \n",
       "5121    0.188679  \n",
       "...          ...  \n",
       "5734    0.188679  \n",
       "5191    0.188679  \n",
       "5390    0.377358  \n",
       "860     0.094340  \n",
       "7270    0.075472  \n",
       "\n",
       "[8452 rows x 8 columns]"
      ]
     },
     "execution_count": 78,
     "metadata": {},
     "output_type": "execute_result"
    }
   ],
   "source": [
    "X_train"
   ]
  },
  {
   "cell_type": "code",
   "execution_count": 79,
   "id": "2c7b93db",
   "metadata": {},
   "outputs": [
    {
     "data": {
      "text/plain": [
       "3683     12691\n",
       "2923     47816\n",
       "6826     21450\n",
       "8151     13849\n",
       "3982     12990\n",
       "         ...  \n",
       "9097     19499\n",
       "8670      8395\n",
       "324      32895\n",
       "10060    36000\n",
       "1102     20251\n",
       "Name: price, Length: 2113, dtype: int64"
      ]
     },
     "execution_count": 79,
     "metadata": {},
     "output_type": "execute_result"
    }
   ],
   "source": [
    "y_test"
   ]
  },
  {
   "cell_type": "markdown",
   "id": "91101d32",
   "metadata": {},
   "source": [
    "# GridSearchCV"
   ]
  },
  {
   "cell_type": "code",
   "execution_count": 83,
   "id": "7ee50021",
   "metadata": {},
   "outputs": [
    {
     "name": "stdout",
     "output_type": "stream",
     "text": [
      "Fitting 5 folds for each of 243 candidates, totalling 1215 fits\n",
      "Best Hyperparameters: {'max_depth': 20, 'max_features': 'log2', 'min_samples_leaf': 1, 'min_samples_split': 5, 'n_estimators': 200}\n",
      "R-squared train: 0.9872479501378734\n",
      "R-squared (Tuned Model - Grid Search): 0.954735051973179\n"
     ]
    }
   ],
   "source": [
    "from sklearn.model_selection import GridSearchCV\n",
    "from sklearn.ensemble import RandomForestRegressor\n",
    "\n",
    "# Define the hyperparameter grid\n",
    "param_grid = {\n",
    "    'n_estimators': [50, 100, 200],\n",
    "    'max_depth': [5, 10, 20],\n",
    "    'min_samples_split': [2, 5, 10],\n",
    "    'min_samples_leaf': [1, 2, 4],\n",
    "    'max_features': ['auto', 'sqrt', 'log2']\n",
    "}\n",
    "\n",
    "# Create a base RandomForestRegressor model\n",
    "rf_base = RandomForestRegressor(random_state=42)\n",
    "\n",
    "# Initialize GridSearchCV\n",
    "rf_grid = GridSearchCV(estimator=rf_base, param_grid=param_grid, cv=5, scoring='r2', verbose=2, n_jobs=-1)\n",
    "\n",
    "# Fit the grid search model\n",
    "rf_grid.fit(X_train, y_train)\n",
    "\n",
    "# Print the best parameters\n",
    "print(\"Best Hyperparameters:\", rf_grid.best_params_)\n",
    "\n",
    "# Get the best model\n",
    "best_rf_model_grid = rf_grid.best_estimator_\n",
    "\n",
    "# Evaluate the model\n",
    "y_pred_tuned_grid = best_rf_model_grid.predict(X_test)\n",
    "r_squared_tuned_grid = best_rf_model_grid.score(X_test, y_test)\n",
    "# Calculate R-squared\n",
    "r_squared = best_rf_model_grid .score(X_train, y_train)\n",
    "\n",
    "print(f'R-squared train: {r_squared}')\n",
    "\n",
    "\n",
    "print(f'R-squared (Tuned Model - Grid Search): {r_squared_tuned_grid}')\n"
   ]
  },
  {
   "cell_type": "code",
   "execution_count": 84,
   "id": "d3cbbaf8",
   "metadata": {},
   "outputs": [
    {
     "name": "stdout",
     "output_type": "stream",
     "text": [
      "R-squared: 0.954735051973179\n"
     ]
    }
   ],
   "source": [
    "# Calculate R-squared\n",
    "r_squared = best_rf_model_grid.score(X_test, y_test)\n",
    "\n",
    "print(f'R-squared: {r_squared}')\n"
   ]
  },
  {
   "cell_type": "markdown",
   "id": "84c85ae2",
   "metadata": {},
   "source": [
    "# decisionTreeRegressor"
   ]
  },
  {
   "cell_type": "code",
   "execution_count": 85,
   "id": "ecd0728a",
   "metadata": {},
   "outputs": [
    {
     "data": {
      "text/html": [
       "<style>#sk-container-id-1 {color: black;background-color: white;}#sk-container-id-1 pre{padding: 0;}#sk-container-id-1 div.sk-toggleable {background-color: white;}#sk-container-id-1 label.sk-toggleable__label {cursor: pointer;display: block;width: 100%;margin-bottom: 0;padding: 0.3em;box-sizing: border-box;text-align: center;}#sk-container-id-1 label.sk-toggleable__label-arrow:before {content: \"▸\";float: left;margin-right: 0.25em;color: #696969;}#sk-container-id-1 label.sk-toggleable__label-arrow:hover:before {color: black;}#sk-container-id-1 div.sk-estimator:hover label.sk-toggleable__label-arrow:before {color: black;}#sk-container-id-1 div.sk-toggleable__content {max-height: 0;max-width: 0;overflow: hidden;text-align: left;background-color: #f0f8ff;}#sk-container-id-1 div.sk-toggleable__content pre {margin: 0.2em;color: black;border-radius: 0.25em;background-color: #f0f8ff;}#sk-container-id-1 input.sk-toggleable__control:checked~div.sk-toggleable__content {max-height: 200px;max-width: 100%;overflow: auto;}#sk-container-id-1 input.sk-toggleable__control:checked~label.sk-toggleable__label-arrow:before {content: \"▾\";}#sk-container-id-1 div.sk-estimator input.sk-toggleable__control:checked~label.sk-toggleable__label {background-color: #d4ebff;}#sk-container-id-1 div.sk-label input.sk-toggleable__control:checked~label.sk-toggleable__label {background-color: #d4ebff;}#sk-container-id-1 input.sk-hidden--visually {border: 0;clip: rect(1px 1px 1px 1px);clip: rect(1px, 1px, 1px, 1px);height: 1px;margin: -1px;overflow: hidden;padding: 0;position: absolute;width: 1px;}#sk-container-id-1 div.sk-estimator {font-family: monospace;background-color: #f0f8ff;border: 1px dotted black;border-radius: 0.25em;box-sizing: border-box;margin-bottom: 0.5em;}#sk-container-id-1 div.sk-estimator:hover {background-color: #d4ebff;}#sk-container-id-1 div.sk-parallel-item::after {content: \"\";width: 100%;border-bottom: 1px solid gray;flex-grow: 1;}#sk-container-id-1 div.sk-label:hover label.sk-toggleable__label {background-color: #d4ebff;}#sk-container-id-1 div.sk-serial::before {content: \"\";position: absolute;border-left: 1px solid gray;box-sizing: border-box;top: 0;bottom: 0;left: 50%;z-index: 0;}#sk-container-id-1 div.sk-serial {display: flex;flex-direction: column;align-items: center;background-color: white;padding-right: 0.2em;padding-left: 0.2em;position: relative;}#sk-container-id-1 div.sk-item {position: relative;z-index: 1;}#sk-container-id-1 div.sk-parallel {display: flex;align-items: stretch;justify-content: center;background-color: white;position: relative;}#sk-container-id-1 div.sk-item::before, #sk-container-id-1 div.sk-parallel-item::before {content: \"\";position: absolute;border-left: 1px solid gray;box-sizing: border-box;top: 0;bottom: 0;left: 50%;z-index: -1;}#sk-container-id-1 div.sk-parallel-item {display: flex;flex-direction: column;z-index: 1;position: relative;background-color: white;}#sk-container-id-1 div.sk-parallel-item:first-child::after {align-self: flex-end;width: 50%;}#sk-container-id-1 div.sk-parallel-item:last-child::after {align-self: flex-start;width: 50%;}#sk-container-id-1 div.sk-parallel-item:only-child::after {width: 0;}#sk-container-id-1 div.sk-dashed-wrapped {border: 1px dashed gray;margin: 0 0.4em 0.5em 0.4em;box-sizing: border-box;padding-bottom: 0.4em;background-color: white;}#sk-container-id-1 div.sk-label label {font-family: monospace;font-weight: bold;display: inline-block;line-height: 1.2em;}#sk-container-id-1 div.sk-label-container {text-align: center;}#sk-container-id-1 div.sk-container {/* jupyter's `normalize.less` sets `[hidden] { display: none; }` but bootstrap.min.css set `[hidden] { display: none !important; }` so we also need the `!important` here to be able to override the default hidden behavior on the sphinx rendered scikit-learn.org. See: https://github.com/scikit-learn/scikit-learn/issues/21755 */display: inline-block !important;position: relative;}#sk-container-id-1 div.sk-text-repr-fallback {display: none;}</style><div id=\"sk-container-id-1\" class=\"sk-top-container\"><div class=\"sk-text-repr-fallback\"><pre>DecisionTreeRegressor(random_state=42)</pre><b>In a Jupyter environment, please rerun this cell to show the HTML representation or trust the notebook. <br />On GitHub, the HTML representation is unable to render, please try loading this page with nbviewer.org.</b></div><div class=\"sk-container\" hidden><div class=\"sk-item\"><div class=\"sk-estimator sk-toggleable\"><input class=\"sk-toggleable__control sk-hidden--visually\" id=\"sk-estimator-id-1\" type=\"checkbox\" checked><label for=\"sk-estimator-id-1\" class=\"sk-toggleable__label sk-toggleable__label-arrow\">DecisionTreeRegressor</label><div class=\"sk-toggleable__content\"><pre>DecisionTreeRegressor(random_state=42)</pre></div></div></div></div></div>"
      ],
      "text/plain": [
       "DecisionTreeRegressor(random_state=42)"
      ]
     },
     "execution_count": 85,
     "metadata": {},
     "output_type": "execute_result"
    }
   ],
   "source": [
    "from sklearn.tree import DecisionTreeRegressor\n",
    "from sklearn.metrics import mean_squared_error\n",
    "\n",
    "# Create the Decision Tree Regressor\n",
    "dt_regressor = DecisionTreeRegressor(random_state=42)\n",
    "\n",
    "# Train the model\n",
    "dt_regressor.fit(X_train, y_train)\n"
   ]
  },
  {
   "cell_type": "code",
   "execution_count": 86,
   "id": "539ec4eb",
   "metadata": {},
   "outputs": [],
   "source": [
    "# Predict on the test set\n",
    "y_pred = dt_regressor.predict(X_test)\n"
   ]
  },
  {
   "cell_type": "code",
   "execution_count": 87,
   "id": "257538cb",
   "metadata": {},
   "outputs": [
    {
     "name": "stdout",
     "output_type": "stream",
     "text": [
      "Root Mean Squared Error: 3584.9543689632974\n"
     ]
    }
   ],
   "source": [
    "# Calculate and print the Root Mean Squared Error (RMSE)\n",
    "mse = mean_squared_error(y_test, y_pred)\n",
    "rmse = np.sqrt(mse)\n",
    "print(f'Root Mean Squared Error: {rmse}')\n"
   ]
  },
  {
   "cell_type": "code",
   "execution_count": 88,
   "id": "36a265e5",
   "metadata": {},
   "outputs": [
    {
     "name": "stdout",
     "output_type": "stream",
     "text": [
      "R-squared train: 0.9989374666076153\n"
     ]
    }
   ],
   "source": [
    "# Calculate R-squared\n",
    "r_squared =dt_regressor.score(X_train, y_train)\n",
    "\n",
    "print(f'R-squared train: {r_squared}')\n"
   ]
  },
  {
   "cell_type": "code",
   "execution_count": 89,
   "id": "8cf78ebe",
   "metadata": {},
   "outputs": [
    {
     "name": "stdout",
     "output_type": "stream",
     "text": [
      "R-squared test: 0.909192677593727\n"
     ]
    }
   ],
   "source": [
    "# Assuming you have already trained the Decision Tree model (dt_regressor)\n",
    "r_squared = dt_regressor.score(X_test, y_test)\n",
    "\n",
    "print(f'R-squared test: {r_squared}')\n"
   ]
  },
  {
   "cell_type": "markdown",
   "id": "f24a2457",
   "metadata": {},
   "source": [
    "# Lasso "
   ]
  },
  {
   "cell_type": "code",
   "execution_count": 90,
   "id": "00501ac3",
   "metadata": {},
   "outputs": [
    {
     "name": "stdout",
     "output_type": "stream",
     "text": [
      "R-squared on Training Set (Lasso): 0.8037817918060621\n",
      "R-squared on Test Set (Lasso): 0.8041095700784113\n"
     ]
    }
   ],
   "source": [
    "import pandas as pd\n",
    "from sklearn.model_selection import train_test_split\n",
    "from sklearn.linear_model import Lasso, Ridge\n",
    "from sklearn.metrics import mean_squared_error, r2_score\n",
    "\n",
    "\n",
    "# Initialize the Lasso model\n",
    "lasso_model = Lasso(alpha=0.1)  # You can adjust the alpha parameter for regularization strength\n",
    "\n",
    "# Train the model on the training data\n",
    "lasso_model.fit(X_train, y_train)\n",
    "\n",
    "# Make predictions on the training set\n",
    "y_train_pred_lasso = lasso_model.predict(X_train)\n",
    "\n",
    "# Calculate and print R-squared for the training set with Lasso\n",
    "r2_train_lasso = r2_score(y_train, y_train_pred_lasso)\n",
    "print(f'R-squared on Training Set (Lasso): {r2_train_lasso}')\n",
    "\n",
    "# Make predictions on the test set\n",
    "y_test_pred_lasso = lasso_model.predict(X_test)\n",
    "\n",
    "# Calculate and print R-squared for the test set with Lasso\n",
    "r2_test_lasso = r2_score(y_test, y_test_pred_lasso)\n",
    "print(f'R-squared on Test Set (Lasso): {r2_test_lasso}')\n",
    "\n",
    "\n",
    "\n"
   ]
  },
  {
   "cell_type": "markdown",
   "id": "5660c77b",
   "metadata": {},
   "source": [
    "# KNeighborsRegressor\n",
    "Worst"
   ]
  },
  {
   "cell_type": "code",
   "execution_count": 91,
   "id": "c0c19d89",
   "metadata": {},
   "outputs": [
    {
     "name": "stdout",
     "output_type": "stream",
     "text": [
      "Root Mean Squared Error (KNeighborsRegressor): 3468.446977741844\n",
      "R-squared: 0.9149990606030601\n"
     ]
    }
   ],
   "source": [
    "from sklearn.model_selection import train_test_split\n",
    "from sklearn.neighbors import KNeighborsRegressor\n",
    "from sklearn.metrics import mean_squared_error, r2_score\n",
    "import numpy as np\n",
    "\n",
    "# Use KNeighborsRegressor\n",
    "knn_regressor = KNeighborsRegressor(n_neighbors=5)  # You can adjust the number of neighbors\n",
    "knn_regressor.fit(X_train, y_train)\n",
    "\n",
    "# Evaluate the model\n",
    "y_pred = knn_regressor.predict(X_test)\n",
    "mse = mean_squared_error(y_test, y_pred)\n",
    "rmse = np.sqrt(mse)\n",
    "\n",
    "# Calculate R-squared\n",
    "r2 = r2_score(y_test, y_pred)\n",
    "\n",
    "print(f'Root Mean Squared Error (KNeighborsRegressor): {rmse}')\n",
    "print(f'R-squared: {r2}')\n"
   ]
  },
  {
   "cell_type": "markdown",
   "id": "a10f7522",
   "metadata": {},
   "source": [
    "# Using Pycaret"
   ]
  },
  {
   "cell_type": "code",
   "execution_count": 92,
   "id": "e70cca6f",
   "metadata": {},
   "outputs": [
    {
     "data": {
      "text/html": [
       "<style type=\"text/css\">\n",
       "#T_687a3_row9_col1 {\n",
       "  background-color: lightgreen;\n",
       "}\n",
       "</style>\n",
       "<table id=\"T_687a3\">\n",
       "  <thead>\n",
       "    <tr>\n",
       "      <th class=\"blank level0\" >&nbsp;</th>\n",
       "      <th id=\"T_687a3_level0_col0\" class=\"col_heading level0 col0\" >Description</th>\n",
       "      <th id=\"T_687a3_level0_col1\" class=\"col_heading level0 col1\" >Value</th>\n",
       "    </tr>\n",
       "  </thead>\n",
       "  <tbody>\n",
       "    <tr>\n",
       "      <th id=\"T_687a3_level0_row0\" class=\"row_heading level0 row0\" >0</th>\n",
       "      <td id=\"T_687a3_row0_col0\" class=\"data row0 col0\" >Session id</td>\n",
       "      <td id=\"T_687a3_row0_col1\" class=\"data row0 col1\" >42</td>\n",
       "    </tr>\n",
       "    <tr>\n",
       "      <th id=\"T_687a3_level0_row1\" class=\"row_heading level0 row1\" >1</th>\n",
       "      <td id=\"T_687a3_row1_col0\" class=\"data row1 col0\" >Target</td>\n",
       "      <td id=\"T_687a3_row1_col1\" class=\"data row1 col1\" >price</td>\n",
       "    </tr>\n",
       "    <tr>\n",
       "      <th id=\"T_687a3_level0_row2\" class=\"row_heading level0 row2\" >2</th>\n",
       "      <td id=\"T_687a3_row2_col0\" class=\"data row2 col0\" >Target type</td>\n",
       "      <td id=\"T_687a3_row2_col1\" class=\"data row2 col1\" >Regression</td>\n",
       "    </tr>\n",
       "    <tr>\n",
       "      <th id=\"T_687a3_level0_row3\" class=\"row_heading level0 row3\" >3</th>\n",
       "      <td id=\"T_687a3_row3_col0\" class=\"data row3 col0\" >Original data shape</td>\n",
       "      <td id=\"T_687a3_row3_col1\" class=\"data row3 col1\" >(10565, 9)</td>\n",
       "    </tr>\n",
       "    <tr>\n",
       "      <th id=\"T_687a3_level0_row4\" class=\"row_heading level0 row4\" >4</th>\n",
       "      <td id=\"T_687a3_row4_col0\" class=\"data row4 col0\" >Transformed data shape</td>\n",
       "      <td id=\"T_687a3_row4_col1\" class=\"data row4 col1\" >(10565, 29)</td>\n",
       "    </tr>\n",
       "    <tr>\n",
       "      <th id=\"T_687a3_level0_row5\" class=\"row_heading level0 row5\" >5</th>\n",
       "      <td id=\"T_687a3_row5_col0\" class=\"data row5 col0\" >Transformed train set shape</td>\n",
       "      <td id=\"T_687a3_row5_col1\" class=\"data row5 col1\" >(7395, 29)</td>\n",
       "    </tr>\n",
       "    <tr>\n",
       "      <th id=\"T_687a3_level0_row6\" class=\"row_heading level0 row6\" >6</th>\n",
       "      <td id=\"T_687a3_row6_col0\" class=\"data row6 col0\" >Transformed test set shape</td>\n",
       "      <td id=\"T_687a3_row6_col1\" class=\"data row6 col1\" >(3170, 29)</td>\n",
       "    </tr>\n",
       "    <tr>\n",
       "      <th id=\"T_687a3_level0_row7\" class=\"row_heading level0 row7\" >7</th>\n",
       "      <td id=\"T_687a3_row7_col0\" class=\"data row7 col0\" >Numeric features</td>\n",
       "      <td id=\"T_687a3_row7_col1\" class=\"data row7 col1\" >7</td>\n",
       "    </tr>\n",
       "    <tr>\n",
       "      <th id=\"T_687a3_level0_row8\" class=\"row_heading level0 row8\" >8</th>\n",
       "      <td id=\"T_687a3_row8_col0\" class=\"data row8 col0\" >Categorical features</td>\n",
       "      <td id=\"T_687a3_row8_col1\" class=\"data row8 col1\" >1</td>\n",
       "    </tr>\n",
       "    <tr>\n",
       "      <th id=\"T_687a3_level0_row9\" class=\"row_heading level0 row9\" >9</th>\n",
       "      <td id=\"T_687a3_row9_col0\" class=\"data row9 col0\" >Preprocess</td>\n",
       "      <td id=\"T_687a3_row9_col1\" class=\"data row9 col1\" >True</td>\n",
       "    </tr>\n",
       "    <tr>\n",
       "      <th id=\"T_687a3_level0_row10\" class=\"row_heading level0 row10\" >10</th>\n",
       "      <td id=\"T_687a3_row10_col0\" class=\"data row10 col0\" >Imputation type</td>\n",
       "      <td id=\"T_687a3_row10_col1\" class=\"data row10 col1\" >simple</td>\n",
       "    </tr>\n",
       "    <tr>\n",
       "      <th id=\"T_687a3_level0_row11\" class=\"row_heading level0 row11\" >11</th>\n",
       "      <td id=\"T_687a3_row11_col0\" class=\"data row11 col0\" >Numeric imputation</td>\n",
       "      <td id=\"T_687a3_row11_col1\" class=\"data row11 col1\" >mean</td>\n",
       "    </tr>\n",
       "    <tr>\n",
       "      <th id=\"T_687a3_level0_row12\" class=\"row_heading level0 row12\" >12</th>\n",
       "      <td id=\"T_687a3_row12_col0\" class=\"data row12 col0\" >Categorical imputation</td>\n",
       "      <td id=\"T_687a3_row12_col1\" class=\"data row12 col1\" >mode</td>\n",
       "    </tr>\n",
       "    <tr>\n",
       "      <th id=\"T_687a3_level0_row13\" class=\"row_heading level0 row13\" >13</th>\n",
       "      <td id=\"T_687a3_row13_col0\" class=\"data row13 col0\" >Maximum one-hot encoding</td>\n",
       "      <td id=\"T_687a3_row13_col1\" class=\"data row13 col1\" >25</td>\n",
       "    </tr>\n",
       "    <tr>\n",
       "      <th id=\"T_687a3_level0_row14\" class=\"row_heading level0 row14\" >14</th>\n",
       "      <td id=\"T_687a3_row14_col0\" class=\"data row14 col0\" >Encoding method</td>\n",
       "      <td id=\"T_687a3_row14_col1\" class=\"data row14 col1\" >None</td>\n",
       "    </tr>\n",
       "    <tr>\n",
       "      <th id=\"T_687a3_level0_row15\" class=\"row_heading level0 row15\" >15</th>\n",
       "      <td id=\"T_687a3_row15_col0\" class=\"data row15 col0\" >Fold Generator</td>\n",
       "      <td id=\"T_687a3_row15_col1\" class=\"data row15 col1\" >KFold</td>\n",
       "    </tr>\n",
       "    <tr>\n",
       "      <th id=\"T_687a3_level0_row16\" class=\"row_heading level0 row16\" >16</th>\n",
       "      <td id=\"T_687a3_row16_col0\" class=\"data row16 col0\" >Fold Number</td>\n",
       "      <td id=\"T_687a3_row16_col1\" class=\"data row16 col1\" >10</td>\n",
       "    </tr>\n",
       "    <tr>\n",
       "      <th id=\"T_687a3_level0_row17\" class=\"row_heading level0 row17\" >17</th>\n",
       "      <td id=\"T_687a3_row17_col0\" class=\"data row17 col0\" >CPU Jobs</td>\n",
       "      <td id=\"T_687a3_row17_col1\" class=\"data row17 col1\" >-1</td>\n",
       "    </tr>\n",
       "    <tr>\n",
       "      <th id=\"T_687a3_level0_row18\" class=\"row_heading level0 row18\" >18</th>\n",
       "      <td id=\"T_687a3_row18_col0\" class=\"data row18 col0\" >Use GPU</td>\n",
       "      <td id=\"T_687a3_row18_col1\" class=\"data row18 col1\" >False</td>\n",
       "    </tr>\n",
       "    <tr>\n",
       "      <th id=\"T_687a3_level0_row19\" class=\"row_heading level0 row19\" >19</th>\n",
       "      <td id=\"T_687a3_row19_col0\" class=\"data row19 col0\" >Log Experiment</td>\n",
       "      <td id=\"T_687a3_row19_col1\" class=\"data row19 col1\" >False</td>\n",
       "    </tr>\n",
       "    <tr>\n",
       "      <th id=\"T_687a3_level0_row20\" class=\"row_heading level0 row20\" >20</th>\n",
       "      <td id=\"T_687a3_row20_col0\" class=\"data row20 col0\" >Experiment Name</td>\n",
       "      <td id=\"T_687a3_row20_col1\" class=\"data row20 col1\" >reg-default-name</td>\n",
       "    </tr>\n",
       "    <tr>\n",
       "      <th id=\"T_687a3_level0_row21\" class=\"row_heading level0 row21\" >21</th>\n",
       "      <td id=\"T_687a3_row21_col0\" class=\"data row21 col0\" >USI</td>\n",
       "      <td id=\"T_687a3_row21_col1\" class=\"data row21 col1\" >e216</td>\n",
       "    </tr>\n",
       "  </tbody>\n",
       "</table>\n"
      ],
      "text/plain": [
       "<pandas.io.formats.style.Styler at 0x2f848657940>"
      ]
     },
     "metadata": {},
     "output_type": "display_data"
    },
    {
     "data": {
      "text/html": [],
      "text/plain": [
       "<IPython.core.display.HTML object>"
      ]
     },
     "metadata": {},
     "output_type": "display_data"
    },
    {
     "data": {
      "text/html": [
       "<style type=\"text/css\">\n",
       "#T_5a22c th {\n",
       "  text-align: left;\n",
       "}\n",
       "#T_5a22c_row0_col0, #T_5a22c_row0_col5, #T_5a22c_row0_col6, #T_5a22c_row1_col0, #T_5a22c_row1_col1, #T_5a22c_row1_col2, #T_5a22c_row1_col3, #T_5a22c_row1_col4, #T_5a22c_row2_col0, #T_5a22c_row2_col1, #T_5a22c_row2_col2, #T_5a22c_row2_col3, #T_5a22c_row2_col4, #T_5a22c_row2_col5, #T_5a22c_row2_col6, #T_5a22c_row3_col0, #T_5a22c_row3_col1, #T_5a22c_row3_col2, #T_5a22c_row3_col3, #T_5a22c_row3_col4, #T_5a22c_row3_col5, #T_5a22c_row3_col6, #T_5a22c_row4_col0, #T_5a22c_row4_col1, #T_5a22c_row4_col2, #T_5a22c_row4_col3, #T_5a22c_row4_col4, #T_5a22c_row4_col5, #T_5a22c_row4_col6, #T_5a22c_row5_col0, #T_5a22c_row5_col1, #T_5a22c_row5_col2, #T_5a22c_row5_col3, #T_5a22c_row5_col4, #T_5a22c_row5_col5, #T_5a22c_row5_col6, #T_5a22c_row6_col0, #T_5a22c_row6_col1, #T_5a22c_row6_col2, #T_5a22c_row6_col3, #T_5a22c_row6_col4, #T_5a22c_row6_col5, #T_5a22c_row6_col6, #T_5a22c_row7_col0, #T_5a22c_row7_col1, #T_5a22c_row7_col2, #T_5a22c_row7_col3, #T_5a22c_row7_col4, #T_5a22c_row7_col5, #T_5a22c_row7_col6, #T_5a22c_row8_col0, #T_5a22c_row8_col1, #T_5a22c_row8_col2, #T_5a22c_row8_col3, #T_5a22c_row8_col4, #T_5a22c_row8_col5, #T_5a22c_row8_col6, #T_5a22c_row9_col0, #T_5a22c_row9_col1, #T_5a22c_row9_col2, #T_5a22c_row9_col3, #T_5a22c_row9_col4, #T_5a22c_row9_col5, #T_5a22c_row9_col6, #T_5a22c_row10_col0, #T_5a22c_row10_col1, #T_5a22c_row10_col2, #T_5a22c_row10_col3, #T_5a22c_row10_col4, #T_5a22c_row10_col5, #T_5a22c_row10_col6, #T_5a22c_row11_col0, #T_5a22c_row11_col1, #T_5a22c_row11_col2, #T_5a22c_row11_col3, #T_5a22c_row11_col4, #T_5a22c_row11_col5, #T_5a22c_row11_col6, #T_5a22c_row12_col0, #T_5a22c_row12_col1, #T_5a22c_row12_col2, #T_5a22c_row12_col3, #T_5a22c_row12_col4, #T_5a22c_row12_col5, #T_5a22c_row12_col6, #T_5a22c_row13_col0, #T_5a22c_row13_col1, #T_5a22c_row13_col2, #T_5a22c_row13_col3, #T_5a22c_row13_col4, #T_5a22c_row13_col5, #T_5a22c_row13_col6, #T_5a22c_row14_col0, #T_5a22c_row14_col1, #T_5a22c_row14_col2, #T_5a22c_row14_col3, #T_5a22c_row14_col4, #T_5a22c_row14_col5, #T_5a22c_row14_col6, #T_5a22c_row15_col0, #T_5a22c_row15_col1, #T_5a22c_row15_col2, #T_5a22c_row15_col3, #T_5a22c_row15_col4, #T_5a22c_row15_col5, #T_5a22c_row15_col6, #T_5a22c_row16_col0, #T_5a22c_row16_col1, #T_5a22c_row16_col2, #T_5a22c_row16_col3, #T_5a22c_row16_col4, #T_5a22c_row16_col5, #T_5a22c_row16_col6, #T_5a22c_row17_col0, #T_5a22c_row17_col1, #T_5a22c_row17_col2, #T_5a22c_row17_col3, #T_5a22c_row17_col4, #T_5a22c_row17_col5, #T_5a22c_row17_col6, #T_5a22c_row18_col0, #T_5a22c_row18_col1, #T_5a22c_row18_col2, #T_5a22c_row18_col3, #T_5a22c_row18_col4, #T_5a22c_row18_col5, #T_5a22c_row18_col6 {\n",
       "  text-align: left;\n",
       "}\n",
       "#T_5a22c_row0_col1, #T_5a22c_row0_col2, #T_5a22c_row0_col3, #T_5a22c_row0_col4, #T_5a22c_row1_col5, #T_5a22c_row1_col6 {\n",
       "  text-align: left;\n",
       "  background-color: yellow;\n",
       "}\n",
       "#T_5a22c_row0_col7, #T_5a22c_row1_col7, #T_5a22c_row2_col7, #T_5a22c_row3_col7, #T_5a22c_row4_col7, #T_5a22c_row5_col7, #T_5a22c_row7_col7, #T_5a22c_row8_col7, #T_5a22c_row9_col7, #T_5a22c_row10_col7, #T_5a22c_row11_col7, #T_5a22c_row12_col7, #T_5a22c_row13_col7, #T_5a22c_row14_col7, #T_5a22c_row15_col7, #T_5a22c_row16_col7, #T_5a22c_row18_col7 {\n",
       "  text-align: left;\n",
       "  background-color: lightgrey;\n",
       "}\n",
       "#T_5a22c_row6_col7, #T_5a22c_row17_col7 {\n",
       "  text-align: left;\n",
       "  background-color: yellow;\n",
       "  background-color: lightgrey;\n",
       "}\n",
       "</style>\n",
       "<table id=\"T_5a22c\">\n",
       "  <thead>\n",
       "    <tr>\n",
       "      <th class=\"blank level0\" >&nbsp;</th>\n",
       "      <th id=\"T_5a22c_level0_col0\" class=\"col_heading level0 col0\" >Model</th>\n",
       "      <th id=\"T_5a22c_level0_col1\" class=\"col_heading level0 col1\" >MAE</th>\n",
       "      <th id=\"T_5a22c_level0_col2\" class=\"col_heading level0 col2\" >MSE</th>\n",
       "      <th id=\"T_5a22c_level0_col3\" class=\"col_heading level0 col3\" >RMSE</th>\n",
       "      <th id=\"T_5a22c_level0_col4\" class=\"col_heading level0 col4\" >R2</th>\n",
       "      <th id=\"T_5a22c_level0_col5\" class=\"col_heading level0 col5\" >RMSLE</th>\n",
       "      <th id=\"T_5a22c_level0_col6\" class=\"col_heading level0 col6\" >MAPE</th>\n",
       "      <th id=\"T_5a22c_level0_col7\" class=\"col_heading level0 col7\" >TT (Sec)</th>\n",
       "    </tr>\n",
       "  </thead>\n",
       "  <tbody>\n",
       "    <tr>\n",
       "      <th id=\"T_5a22c_level0_row0\" class=\"row_heading level0 row0\" >xgboost</th>\n",
       "      <td id=\"T_5a22c_row0_col0\" class=\"data row0 col0\" >Extreme Gradient Boosting</td>\n",
       "      <td id=\"T_5a22c_row0_col1\" class=\"data row0 col1\" >1573.9772</td>\n",
       "      <td id=\"T_5a22c_row0_col2\" class=\"data row0 col2\" >5439358.5584</td>\n",
       "      <td id=\"T_5a22c_row0_col3\" class=\"data row0 col3\" >2329.2368</td>\n",
       "      <td id=\"T_5a22c_row0_col4\" class=\"data row0 col4\" >0.9588</td>\n",
       "      <td id=\"T_5a22c_row0_col5\" class=\"data row0 col5\" >0.1168</td>\n",
       "      <td id=\"T_5a22c_row0_col6\" class=\"data row0 col6\" >0.0772</td>\n",
       "      <td id=\"T_5a22c_row0_col7\" class=\"data row0 col7\" >0.1180</td>\n",
       "    </tr>\n",
       "    <tr>\n",
       "      <th id=\"T_5a22c_level0_row1\" class=\"row_heading level0 row1\" >et</th>\n",
       "      <td id=\"T_5a22c_row1_col0\" class=\"data row1 col0\" >Extra Trees Regressor</td>\n",
       "      <td id=\"T_5a22c_row1_col1\" class=\"data row1 col1\" >1600.3367</td>\n",
       "      <td id=\"T_5a22c_row1_col2\" class=\"data row1 col2\" >5798550.8308</td>\n",
       "      <td id=\"T_5a22c_row1_col3\" class=\"data row1 col3\" >2405.5029</td>\n",
       "      <td id=\"T_5a22c_row1_col4\" class=\"data row1 col4\" >0.9559</td>\n",
       "      <td id=\"T_5a22c_row1_col5\" class=\"data row1 col5\" >0.1057</td>\n",
       "      <td id=\"T_5a22c_row1_col6\" class=\"data row1 col6\" >0.0765</td>\n",
       "      <td id=\"T_5a22c_row1_col7\" class=\"data row1 col7\" >0.4690</td>\n",
       "    </tr>\n",
       "    <tr>\n",
       "      <th id=\"T_5a22c_level0_row2\" class=\"row_heading level0 row2\" >rf</th>\n",
       "      <td id=\"T_5a22c_row2_col0\" class=\"data row2 col0\" >Random Forest Regressor</td>\n",
       "      <td id=\"T_5a22c_row2_col1\" class=\"data row2 col1\" >1659.2350</td>\n",
       "      <td id=\"T_5a22c_row2_col2\" class=\"data row2 col2\" >6457452.7839</td>\n",
       "      <td id=\"T_5a22c_row2_col3\" class=\"data row2 col3\" >2532.5387</td>\n",
       "      <td id=\"T_5a22c_row2_col4\" class=\"data row2 col4\" >0.9515</td>\n",
       "      <td id=\"T_5a22c_row2_col5\" class=\"data row2 col5\" >0.1195</td>\n",
       "      <td id=\"T_5a22c_row2_col6\" class=\"data row2 col6\" >0.0829</td>\n",
       "      <td id=\"T_5a22c_row2_col7\" class=\"data row2 col7\" >0.5870</td>\n",
       "    </tr>\n",
       "    <tr>\n",
       "      <th id=\"T_5a22c_level0_row3\" class=\"row_heading level0 row3\" >lightgbm</th>\n",
       "      <td id=\"T_5a22c_row3_col0\" class=\"data row3 col0\" >Light Gradient Boosting Machine</td>\n",
       "      <td id=\"T_5a22c_row3_col1\" class=\"data row3 col1\" >1693.9928</td>\n",
       "      <td id=\"T_5a22c_row3_col2\" class=\"data row3 col2\" >6938711.7298</td>\n",
       "      <td id=\"T_5a22c_row3_col3\" class=\"data row3 col3\" >2625.4262</td>\n",
       "      <td id=\"T_5a22c_row3_col4\" class=\"data row3 col4\" >0.9481</td>\n",
       "      <td id=\"T_5a22c_row3_col5\" class=\"data row3 col5\" >0.1270</td>\n",
       "      <td id=\"T_5a22c_row3_col6\" class=\"data row3 col6\" >0.0832</td>\n",
       "      <td id=\"T_5a22c_row3_col7\" class=\"data row3 col7\" >0.1710</td>\n",
       "    </tr>\n",
       "    <tr>\n",
       "      <th id=\"T_5a22c_level0_row4\" class=\"row_heading level0 row4\" >gbr</th>\n",
       "      <td id=\"T_5a22c_row4_col0\" class=\"data row4 col0\" >Gradient Boosting Regressor</td>\n",
       "      <td id=\"T_5a22c_row4_col1\" class=\"data row4 col1\" >2116.5855</td>\n",
       "      <td id=\"T_5a22c_row4_col2\" class=\"data row4 col2\" >9098614.9983</td>\n",
       "      <td id=\"T_5a22c_row4_col3\" class=\"data row4 col3\" >3014.8600</td>\n",
       "      <td id=\"T_5a22c_row4_col4\" class=\"data row4 col4\" >0.9314</td>\n",
       "      <td id=\"T_5a22c_row4_col5\" class=\"data row4 col5\" >0.1482</td>\n",
       "      <td id=\"T_5a22c_row4_col6\" class=\"data row4 col6\" >0.1038</td>\n",
       "      <td id=\"T_5a22c_row4_col7\" class=\"data row4 col7\" >0.2930</td>\n",
       "    </tr>\n",
       "    <tr>\n",
       "      <th id=\"T_5a22c_level0_row5\" class=\"row_heading level0 row5\" >dt</th>\n",
       "      <td id=\"T_5a22c_row5_col0\" class=\"data row5 col0\" >Decision Tree Regressor</td>\n",
       "      <td id=\"T_5a22c_row5_col1\" class=\"data row5 col1\" >2125.7690</td>\n",
       "      <td id=\"T_5a22c_row5_col2\" class=\"data row5 col2\" >10856369.5006</td>\n",
       "      <td id=\"T_5a22c_row5_col3\" class=\"data row5 col3\" >3284.4629</td>\n",
       "      <td id=\"T_5a22c_row5_col4\" class=\"data row5 col4\" >0.9182</td>\n",
       "      <td id=\"T_5a22c_row5_col5\" class=\"data row5 col5\" >0.1565</td>\n",
       "      <td id=\"T_5a22c_row5_col6\" class=\"data row5 col6\" >0.1056</td>\n",
       "      <td id=\"T_5a22c_row5_col7\" class=\"data row5 col7\" >0.0380</td>\n",
       "    </tr>\n",
       "    <tr>\n",
       "      <th id=\"T_5a22c_level0_row6\" class=\"row_heading level0 row6\" >ridge</th>\n",
       "      <td id=\"T_5a22c_row6_col0\" class=\"data row6 col0\" >Ridge Regression</td>\n",
       "      <td id=\"T_5a22c_row6_col1\" class=\"data row6 col1\" >3356.3280</td>\n",
       "      <td id=\"T_5a22c_row6_col2\" class=\"data row6 col2\" >24835870.0412</td>\n",
       "      <td id=\"T_5a22c_row6_col3\" class=\"data row6 col3\" >4966.6565</td>\n",
       "      <td id=\"T_5a22c_row6_col4\" class=\"data row6 col4\" >0.8153</td>\n",
       "      <td id=\"T_5a22c_row6_col5\" class=\"data row6 col5\" >0.2621</td>\n",
       "      <td id=\"T_5a22c_row6_col6\" class=\"data row6 col6\" >0.1703</td>\n",
       "      <td id=\"T_5a22c_row6_col7\" class=\"data row6 col7\" >0.0300</td>\n",
       "    </tr>\n",
       "    <tr>\n",
       "      <th id=\"T_5a22c_level0_row7\" class=\"row_heading level0 row7\" >lasso</th>\n",
       "      <td id=\"T_5a22c_row7_col0\" class=\"data row7 col0\" >Lasso Regression</td>\n",
       "      <td id=\"T_5a22c_row7_col1\" class=\"data row7 col1\" >3359.0090</td>\n",
       "      <td id=\"T_5a22c_row7_col2\" class=\"data row7 col2\" >24884334.8248</td>\n",
       "      <td id=\"T_5a22c_row7_col3\" class=\"data row7 col3\" >4971.2441</td>\n",
       "      <td id=\"T_5a22c_row7_col4\" class=\"data row7 col4\" >0.8150</td>\n",
       "      <td id=\"T_5a22c_row7_col5\" class=\"data row7 col5\" >0.2601</td>\n",
       "      <td id=\"T_5a22c_row7_col6\" class=\"data row7 col6\" >0.1706</td>\n",
       "      <td id=\"T_5a22c_row7_col7\" class=\"data row7 col7\" >0.1010</td>\n",
       "    </tr>\n",
       "    <tr>\n",
       "      <th id=\"T_5a22c_level0_row8\" class=\"row_heading level0 row8\" >llar</th>\n",
       "      <td id=\"T_5a22c_row8_col0\" class=\"data row8 col0\" >Lasso Least Angle Regression</td>\n",
       "      <td id=\"T_5a22c_row8_col1\" class=\"data row8 col1\" >3358.8317</td>\n",
       "      <td id=\"T_5a22c_row8_col2\" class=\"data row8 col2\" >24878965.7865</td>\n",
       "      <td id=\"T_5a22c_row8_col3\" class=\"data row8 col3\" >4970.6827</td>\n",
       "      <td id=\"T_5a22c_row8_col4\" class=\"data row8 col4\" >0.8150</td>\n",
       "      <td id=\"T_5a22c_row8_col5\" class=\"data row8 col5\" >0.2599</td>\n",
       "      <td id=\"T_5a22c_row8_col6\" class=\"data row8 col6\" >0.1706</td>\n",
       "      <td id=\"T_5a22c_row8_col7\" class=\"data row8 col7\" >0.0320</td>\n",
       "    </tr>\n",
       "    <tr>\n",
       "      <th id=\"T_5a22c_level0_row9\" class=\"row_heading level0 row9\" >br</th>\n",
       "      <td id=\"T_5a22c_row9_col0\" class=\"data row9 col0\" >Bayesian Ridge</td>\n",
       "      <td id=\"T_5a22c_row9_col1\" class=\"data row9 col1\" >3358.5992</td>\n",
       "      <td id=\"T_5a22c_row9_col2\" class=\"data row9 col2\" >24890696.9895</td>\n",
       "      <td id=\"T_5a22c_row9_col3\" class=\"data row9 col3\" >4972.1038</td>\n",
       "      <td id=\"T_5a22c_row9_col4\" class=\"data row9 col4\" >0.8149</td>\n",
       "      <td id=\"T_5a22c_row9_col5\" class=\"data row9 col5\" >0.2585</td>\n",
       "      <td id=\"T_5a22c_row9_col6\" class=\"data row9 col6\" >0.1711</td>\n",
       "      <td id=\"T_5a22c_row9_col7\" class=\"data row9 col7\" >0.0340</td>\n",
       "    </tr>\n",
       "    <tr>\n",
       "      <th id=\"T_5a22c_level0_row10\" class=\"row_heading level0 row10\" >lr</th>\n",
       "      <td id=\"T_5a22c_row10_col0\" class=\"data row10 col0\" >Linear Regression</td>\n",
       "      <td id=\"T_5a22c_row10_col1\" class=\"data row10 col1\" >3359.6784</td>\n",
       "      <td id=\"T_5a22c_row10_col2\" class=\"data row10 col2\" >24923498.2109</td>\n",
       "      <td id=\"T_5a22c_row10_col3\" class=\"data row10 col3\" >4975.3019</td>\n",
       "      <td id=\"T_5a22c_row10_col4\" class=\"data row10 col4\" >0.8147</td>\n",
       "      <td id=\"T_5a22c_row10_col5\" class=\"data row10 col5\" >0.2577</td>\n",
       "      <td id=\"T_5a22c_row10_col6\" class=\"data row10 col6\" >0.1716</td>\n",
       "      <td id=\"T_5a22c_row10_col7\" class=\"data row10 col7\" >0.2670</td>\n",
       "    </tr>\n",
       "    <tr>\n",
       "      <th id=\"T_5a22c_level0_row11\" class=\"row_heading level0 row11\" >ada</th>\n",
       "      <td id=\"T_5a22c_row11_col0\" class=\"data row11 col0\" >AdaBoost Regressor</td>\n",
       "      <td id=\"T_5a22c_row11_col1\" class=\"data row11 col1\" >4650.7743</td>\n",
       "      <td id=\"T_5a22c_row11_col2\" class=\"data row11 col2\" >32399196.9756</td>\n",
       "      <td id=\"T_5a22c_row11_col3\" class=\"data row11 col3\" >5686.1250</td>\n",
       "      <td id=\"T_5a22c_row11_col4\" class=\"data row11 col4\" >0.7551</td>\n",
       "      <td id=\"T_5a22c_row11_col5\" class=\"data row11 col5\" >0.2999</td>\n",
       "      <td id=\"T_5a22c_row11_col6\" class=\"data row11 col6\" >0.2790</td>\n",
       "      <td id=\"T_5a22c_row11_col7\" class=\"data row11 col7\" >0.2300</td>\n",
       "    </tr>\n",
       "    <tr>\n",
       "      <th id=\"T_5a22c_level0_row12\" class=\"row_heading level0 row12\" >en</th>\n",
       "      <td id=\"T_5a22c_row12_col0\" class=\"data row12 col0\" >Elastic Net</td>\n",
       "      <td id=\"T_5a22c_row12_col1\" class=\"data row12 col1\" >4131.1555</td>\n",
       "      <td id=\"T_5a22c_row12_col2\" class=\"data row12 col2\" >46122799.4286</td>\n",
       "      <td id=\"T_5a22c_row12_col3\" class=\"data row12 col3\" >6763.3553</td>\n",
       "      <td id=\"T_5a22c_row12_col4\" class=\"data row12 col4\" >0.6579</td>\n",
       "      <td id=\"T_5a22c_row12_col5\" class=\"data row12 col5\" >0.3312</td>\n",
       "      <td id=\"T_5a22c_row12_col6\" class=\"data row12 col6\" >0.2054</td>\n",
       "      <td id=\"T_5a22c_row12_col7\" class=\"data row12 col7\" >0.0370</td>\n",
       "    </tr>\n",
       "    <tr>\n",
       "      <th id=\"T_5a22c_level0_row13\" class=\"row_heading level0 row13\" >huber</th>\n",
       "      <td id=\"T_5a22c_row13_col0\" class=\"data row13 col0\" >Huber Regressor</td>\n",
       "      <td id=\"T_5a22c_row13_col1\" class=\"data row13 col1\" >5269.0440</td>\n",
       "      <td id=\"T_5a22c_row13_col2\" class=\"data row13 col2\" >69003626.0045</td>\n",
       "      <td id=\"T_5a22c_row13_col3\" class=\"data row13 col3\" >8104.3484</td>\n",
       "      <td id=\"T_5a22c_row13_col4\" class=\"data row13 col4\" >0.4794</td>\n",
       "      <td id=\"T_5a22c_row13_col5\" class=\"data row13 col5\" >0.4023</td>\n",
       "      <td id=\"T_5a22c_row13_col6\" class=\"data row13 col6\" >0.2541</td>\n",
       "      <td id=\"T_5a22c_row13_col7\" class=\"data row13 col7\" >0.1260</td>\n",
       "    </tr>\n",
       "    <tr>\n",
       "      <th id=\"T_5a22c_level0_row14\" class=\"row_heading level0 row14\" >knn</th>\n",
       "      <td id=\"T_5a22c_row14_col0\" class=\"data row14 col0\" >K Neighbors Regressor</td>\n",
       "      <td id=\"T_5a22c_row14_col1\" class=\"data row14 col1\" >5482.6328</td>\n",
       "      <td id=\"T_5a22c_row14_col2\" class=\"data row14 col2\" >73332067.0201</td>\n",
       "      <td id=\"T_5a22c_row14_col3\" class=\"data row14 col3\" >8517.9774</td>\n",
       "      <td id=\"T_5a22c_row14_col4\" class=\"data row14 col4\" >0.4575</td>\n",
       "      <td id=\"T_5a22c_row14_col5\" class=\"data row14 col5\" >0.3183</td>\n",
       "      <td id=\"T_5a22c_row14_col6\" class=\"data row14 col6\" >0.2542</td>\n",
       "      <td id=\"T_5a22c_row14_col7\" class=\"data row14 col7\" >0.0460</td>\n",
       "    </tr>\n",
       "    <tr>\n",
       "      <th id=\"T_5a22c_level0_row15\" class=\"row_heading level0 row15\" >omp</th>\n",
       "      <td id=\"T_5a22c_row15_col0\" class=\"data row15 col0\" >Orthogonal Matching Pursuit</td>\n",
       "      <td id=\"T_5a22c_row15_col1\" class=\"data row15 col1\" >6228.8767</td>\n",
       "      <td id=\"T_5a22c_row15_col2\" class=\"data row15 col2\" >88478490.3281</td>\n",
       "      <td id=\"T_5a22c_row15_col3\" class=\"data row15 col3\" >9368.5324</td>\n",
       "      <td id=\"T_5a22c_row15_col4\" class=\"data row15 col4\" >0.3447</td>\n",
       "      <td id=\"T_5a22c_row15_col5\" class=\"data row15 col5\" >0.4088</td>\n",
       "      <td id=\"T_5a22c_row15_col6\" class=\"data row15 col6\" >0.3064</td>\n",
       "      <td id=\"T_5a22c_row15_col7\" class=\"data row15 col7\" >0.0310</td>\n",
       "    </tr>\n",
       "    <tr>\n",
       "      <th id=\"T_5a22c_level0_row16\" class=\"row_heading level0 row16\" >dummy</th>\n",
       "      <td id=\"T_5a22c_row16_col0\" class=\"data row16 col0\" >Dummy Regressor</td>\n",
       "      <td id=\"T_5a22c_row16_col1\" class=\"data row16 col1\" >8354.3196</td>\n",
       "      <td id=\"T_5a22c_row16_col2\" class=\"data row16 col2\" >134449157.9109</td>\n",
       "      <td id=\"T_5a22c_row16_col3\" class=\"data row16 col3\" >11568.2953</td>\n",
       "      <td id=\"T_5a22c_row16_col4\" class=\"data row16 col4\" >-0.0010</td>\n",
       "      <td id=\"T_5a22c_row16_col5\" class=\"data row16 col5\" >0.4820</td>\n",
       "      <td id=\"T_5a22c_row16_col6\" class=\"data row16 col6\" >0.4607</td>\n",
       "      <td id=\"T_5a22c_row16_col7\" class=\"data row16 col7\" >0.0370</td>\n",
       "    </tr>\n",
       "    <tr>\n",
       "      <th id=\"T_5a22c_level0_row17\" class=\"row_heading level0 row17\" >par</th>\n",
       "      <td id=\"T_5a22c_row17_col0\" class=\"data row17 col0\" >Passive Aggressive Regressor</td>\n",
       "      <td id=\"T_5a22c_row17_col1\" class=\"data row17 col1\" >46167.4687</td>\n",
       "      <td id=\"T_5a22c_row17_col2\" class=\"data row17 col2\" >8487457672.8070</td>\n",
       "      <td id=\"T_5a22c_row17_col3\" class=\"data row17 col3\" >66054.9341</td>\n",
       "      <td id=\"T_5a22c_row17_col4\" class=\"data row17 col4\" >-57.6928</td>\n",
       "      <td id=\"T_5a22c_row17_col5\" class=\"data row17 col5\" >1.1511</td>\n",
       "      <td id=\"T_5a22c_row17_col6\" class=\"data row17 col6\" >3.3274</td>\n",
       "      <td id=\"T_5a22c_row17_col7\" class=\"data row17 col7\" >0.0300</td>\n",
       "    </tr>\n",
       "    <tr>\n",
       "      <th id=\"T_5a22c_level0_row18\" class=\"row_heading level0 row18\" >lar</th>\n",
       "      <td id=\"T_5a22c_row18_col0\" class=\"data row18 col0\" >Least Angle Regression</td>\n",
       "      <td id=\"T_5a22c_row18_col1\" class=\"data row18 col1\" >447160418675008.5625</td>\n",
       "      <td id=\"T_5a22c_row18_col2\" class=\"data row18 col2\" >713416285137940161562787203514368.0000</td>\n",
       "      <td id=\"T_5a22c_row18_col3\" class=\"data row18 col3\" >8666535768784568.0000</td>\n",
       "      <td id=\"T_5a22c_row18_col4\" class=\"data row18 col4\" >-5933463639043325290348544.0000</td>\n",
       "      <td id=\"T_5a22c_row18_col5\" class=\"data row18 col5\" >0.7580</td>\n",
       "      <td id=\"T_5a22c_row18_col6\" class=\"data row18 col6\" >125154257844.0869</td>\n",
       "      <td id=\"T_5a22c_row18_col7\" class=\"data row18 col7\" >0.0360</td>\n",
       "    </tr>\n",
       "  </tbody>\n",
       "</table>\n"
      ],
      "text/plain": [
       "<pandas.io.formats.style.Styler at 0x2f85480fc40>"
      ]
     },
     "metadata": {},
     "output_type": "display_data"
    },
    {
     "data": {
      "text/html": [],
      "text/plain": [
       "<IPython.core.display.HTML object>"
      ]
     },
     "metadata": {},
     "output_type": "display_data"
    },
    {
     "data": {
      "text/html": [],
      "text/plain": [
       "<IPython.core.display.HTML object>"
      ]
     },
     "metadata": {},
     "output_type": "display_data"
    },
    {
     "data": {
      "text/html": [
       "<style type=\"text/css\">\n",
       "#T_7003a_row10_col0, #T_7003a_row10_col1, #T_7003a_row10_col2, #T_7003a_row10_col3, #T_7003a_row10_col4, #T_7003a_row10_col5 {\n",
       "  background: yellow;\n",
       "}\n",
       "</style>\n",
       "<table id=\"T_7003a\">\n",
       "  <thead>\n",
       "    <tr>\n",
       "      <th class=\"blank level0\" >&nbsp;</th>\n",
       "      <th id=\"T_7003a_level0_col0\" class=\"col_heading level0 col0\" >MAE</th>\n",
       "      <th id=\"T_7003a_level0_col1\" class=\"col_heading level0 col1\" >MSE</th>\n",
       "      <th id=\"T_7003a_level0_col2\" class=\"col_heading level0 col2\" >RMSE</th>\n",
       "      <th id=\"T_7003a_level0_col3\" class=\"col_heading level0 col3\" >R2</th>\n",
       "      <th id=\"T_7003a_level0_col4\" class=\"col_heading level0 col4\" >RMSLE</th>\n",
       "      <th id=\"T_7003a_level0_col5\" class=\"col_heading level0 col5\" >MAPE</th>\n",
       "    </tr>\n",
       "    <tr>\n",
       "      <th class=\"index_name level0\" >Fold</th>\n",
       "      <th class=\"blank col0\" >&nbsp;</th>\n",
       "      <th class=\"blank col1\" >&nbsp;</th>\n",
       "      <th class=\"blank col2\" >&nbsp;</th>\n",
       "      <th class=\"blank col3\" >&nbsp;</th>\n",
       "      <th class=\"blank col4\" >&nbsp;</th>\n",
       "      <th class=\"blank col5\" >&nbsp;</th>\n",
       "    </tr>\n",
       "  </thead>\n",
       "  <tbody>\n",
       "    <tr>\n",
       "      <th id=\"T_7003a_level0_row0\" class=\"row_heading level0 row0\" >0</th>\n",
       "      <td id=\"T_7003a_row0_col0\" class=\"data row0 col0\" >1723.9186</td>\n",
       "      <td id=\"T_7003a_row0_col1\" class=\"data row0 col1\" >7705456.5089</td>\n",
       "      <td id=\"T_7003a_row0_col2\" class=\"data row0 col2\" >2775.8704</td>\n",
       "      <td id=\"T_7003a_row0_col3\" class=\"data row0 col3\" >0.9395</td>\n",
       "      <td id=\"T_7003a_row0_col4\" class=\"data row0 col4\" >0.1323</td>\n",
       "      <td id=\"T_7003a_row0_col5\" class=\"data row0 col5\" >0.0848</td>\n",
       "    </tr>\n",
       "    <tr>\n",
       "      <th id=\"T_7003a_level0_row1\" class=\"row_heading level0 row1\" >1</th>\n",
       "      <td id=\"T_7003a_row1_col0\" class=\"data row1 col0\" >1635.2609</td>\n",
       "      <td id=\"T_7003a_row1_col1\" class=\"data row1 col1\" >5637570.7094</td>\n",
       "      <td id=\"T_7003a_row1_col2\" class=\"data row1 col2\" >2374.3569</td>\n",
       "      <td id=\"T_7003a_row1_col3\" class=\"data row1 col3\" >0.9559</td>\n",
       "      <td id=\"T_7003a_row1_col4\" class=\"data row1 col4\" >0.1011</td>\n",
       "      <td id=\"T_7003a_row1_col5\" class=\"data row1 col5\" >0.0760</td>\n",
       "    </tr>\n",
       "    <tr>\n",
       "      <th id=\"T_7003a_level0_row2\" class=\"row_heading level0 row2\" >2</th>\n",
       "      <td id=\"T_7003a_row2_col0\" class=\"data row2 col0\" >1723.0262</td>\n",
       "      <td id=\"T_7003a_row2_col1\" class=\"data row2 col1\" >6321013.9898</td>\n",
       "      <td id=\"T_7003a_row2_col2\" class=\"data row2 col2\" >2514.1627</td>\n",
       "      <td id=\"T_7003a_row2_col3\" class=\"data row2 col3\" >0.9556</td>\n",
       "      <td id=\"T_7003a_row2_col4\" class=\"data row2 col4\" >0.1341</td>\n",
       "      <td id=\"T_7003a_row2_col5\" class=\"data row2 col5\" >0.0880</td>\n",
       "    </tr>\n",
       "    <tr>\n",
       "      <th id=\"T_7003a_level0_row3\" class=\"row_heading level0 row3\" >3</th>\n",
       "      <td id=\"T_7003a_row3_col0\" class=\"data row3 col0\" >1634.9219</td>\n",
       "      <td id=\"T_7003a_row3_col1\" class=\"data row3 col1\" >5212779.6443</td>\n",
       "      <td id=\"T_7003a_row3_col2\" class=\"data row3 col2\" >2283.1513</td>\n",
       "      <td id=\"T_7003a_row3_col3\" class=\"data row3 col3\" >0.9582</td>\n",
       "      <td id=\"T_7003a_row3_col4\" class=\"data row3 col4\" >0.1435</td>\n",
       "      <td id=\"T_7003a_row3_col5\" class=\"data row3 col5\" >0.0808</td>\n",
       "    </tr>\n",
       "    <tr>\n",
       "      <th id=\"T_7003a_level0_row4\" class=\"row_heading level0 row4\" >4</th>\n",
       "      <td id=\"T_7003a_row4_col0\" class=\"data row4 col0\" >1664.5969</td>\n",
       "      <td id=\"T_7003a_row4_col1\" class=\"data row4 col1\" >5402745.4265</td>\n",
       "      <td id=\"T_7003a_row4_col2\" class=\"data row4 col2\" >2324.3807</td>\n",
       "      <td id=\"T_7003a_row4_col3\" class=\"data row4 col3\" >0.9551</td>\n",
       "      <td id=\"T_7003a_row4_col4\" class=\"data row4 col4\" >0.1228</td>\n",
       "      <td id=\"T_7003a_row4_col5\" class=\"data row4 col5\" >0.0813</td>\n",
       "    </tr>\n",
       "    <tr>\n",
       "      <th id=\"T_7003a_level0_row5\" class=\"row_heading level0 row5\" >5</th>\n",
       "      <td id=\"T_7003a_row5_col0\" class=\"data row5 col0\" >1743.1913</td>\n",
       "      <td id=\"T_7003a_row5_col1\" class=\"data row5 col1\" >7317934.8001</td>\n",
       "      <td id=\"T_7003a_row5_col2\" class=\"data row5 col2\" >2705.1682</td>\n",
       "      <td id=\"T_7003a_row5_col3\" class=\"data row5 col3\" >0.9579</td>\n",
       "      <td id=\"T_7003a_row5_col4\" class=\"data row5 col4\" >0.1330</td>\n",
       "      <td id=\"T_7003a_row5_col5\" class=\"data row5 col5\" >0.0886</td>\n",
       "    </tr>\n",
       "    <tr>\n",
       "      <th id=\"T_7003a_level0_row6\" class=\"row_heading level0 row6\" >6</th>\n",
       "      <td id=\"T_7003a_row6_col0\" class=\"data row6 col0\" >1734.1613</td>\n",
       "      <td id=\"T_7003a_row6_col1\" class=\"data row6 col1\" >6486968.2203</td>\n",
       "      <td id=\"T_7003a_row6_col2\" class=\"data row6 col2\" >2546.9527</td>\n",
       "      <td id=\"T_7003a_row6_col3\" class=\"data row6 col3\" >0.9598</td>\n",
       "      <td id=\"T_7003a_row6_col4\" class=\"data row6 col4\" >0.2879</td>\n",
       "      <td id=\"T_7003a_row6_col5\" class=\"data row6 col5\" >0.0841</td>\n",
       "    </tr>\n",
       "    <tr>\n",
       "      <th id=\"T_7003a_level0_row7\" class=\"row_heading level0 row7\" >7</th>\n",
       "      <td id=\"T_7003a_row7_col0\" class=\"data row7 col0\" >1648.9159</td>\n",
       "      <td id=\"T_7003a_row7_col1\" class=\"data row7 col1\" >5884176.1196</td>\n",
       "      <td id=\"T_7003a_row7_col2\" class=\"data row7 col2\" >2425.7321</td>\n",
       "      <td id=\"T_7003a_row7_col3\" class=\"data row7 col3\" >0.9567</td>\n",
       "      <td id=\"T_7003a_row7_col4\" class=\"data row7 col4\" >0.1168</td>\n",
       "      <td id=\"T_7003a_row7_col5\" class=\"data row7 col5\" >0.0813</td>\n",
       "    </tr>\n",
       "    <tr>\n",
       "      <th id=\"T_7003a_level0_row8\" class=\"row_heading level0 row8\" >8</th>\n",
       "      <td id=\"T_7003a_row8_col0\" class=\"data row8 col0\" >1709.6330</td>\n",
       "      <td id=\"T_7003a_row8_col1\" class=\"data row8 col1\" >5769240.0316</td>\n",
       "      <td id=\"T_7003a_row8_col2\" class=\"data row8 col2\" >2401.9242</td>\n",
       "      <td id=\"T_7003a_row8_col3\" class=\"data row8 col3\" >0.9511</td>\n",
       "      <td id=\"T_7003a_row8_col4\" class=\"data row8 col4\" >0.1350</td>\n",
       "      <td id=\"T_7003a_row8_col5\" class=\"data row8 col5\" >0.0897</td>\n",
       "    </tr>\n",
       "    <tr>\n",
       "      <th id=\"T_7003a_level0_row9\" class=\"row_heading level0 row9\" >9</th>\n",
       "      <td id=\"T_7003a_row9_col0\" class=\"data row9 col0\" >1658.9321</td>\n",
       "      <td id=\"T_7003a_row9_col1\" class=\"data row9 col1\" >6531407.5017</td>\n",
       "      <td id=\"T_7003a_row9_col2\" class=\"data row9 col2\" >2555.6619</td>\n",
       "      <td id=\"T_7003a_row9_col3\" class=\"data row9 col3\" >0.9414</td>\n",
       "      <td id=\"T_7003a_row9_col4\" class=\"data row9 col4\" >0.1066</td>\n",
       "      <td id=\"T_7003a_row9_col5\" class=\"data row9 col5\" >0.0775</td>\n",
       "    </tr>\n",
       "    <tr>\n",
       "      <th id=\"T_7003a_level0_row10\" class=\"row_heading level0 row10\" >Mean</th>\n",
       "      <td id=\"T_7003a_row10_col0\" class=\"data row10 col0\" >1687.6558</td>\n",
       "      <td id=\"T_7003a_row10_col1\" class=\"data row10 col1\" >6226929.2952</td>\n",
       "      <td id=\"T_7003a_row10_col2\" class=\"data row10 col2\" >2490.7361</td>\n",
       "      <td id=\"T_7003a_row10_col3\" class=\"data row10 col3\" >0.9531</td>\n",
       "      <td id=\"T_7003a_row10_col4\" class=\"data row10 col4\" >0.1413</td>\n",
       "      <td id=\"T_7003a_row10_col5\" class=\"data row10 col5\" >0.0832</td>\n",
       "    </tr>\n",
       "    <tr>\n",
       "      <th id=\"T_7003a_level0_row11\" class=\"row_heading level0 row11\" >Std</th>\n",
       "      <td id=\"T_7003a_row11_col0\" class=\"data row11 col0\" >40.8407</td>\n",
       "      <td id=\"T_7003a_row11_col1\" class=\"data row11 col1\" >769908.8382</td>\n",
       "      <td id=\"T_7003a_row11_col2\" class=\"data row11 col2\" >152.1939</td>\n",
       "      <td id=\"T_7003a_row11_col3\" class=\"data row11 col3\" >0.0067</td>\n",
       "      <td id=\"T_7003a_row11_col4\" class=\"data row11 col4\" >0.0505</td>\n",
       "      <td id=\"T_7003a_row11_col5\" class=\"data row11 col5\" >0.0044</td>\n",
       "    </tr>\n",
       "  </tbody>\n",
       "</table>\n"
      ],
      "text/plain": [
       "<pandas.io.formats.style.Styler at 0x2f8464e1ff0>"
      ]
     },
     "metadata": {},
     "output_type": "display_data"
    },
    {
     "data": {
      "text/html": [],
      "text/plain": [
       "<IPython.core.display.HTML object>"
      ]
     },
     "metadata": {},
     "output_type": "display_data"
    },
    {
     "name": "stdout",
     "output_type": "stream",
     "text": [
      "Fitting 10 folds for each of 10 candidates, totalling 100 fits\n",
      "Original model was better than the tuned model, hence it will be returned. NOTE: The display metrics are for the tuned model (not the original one).\n"
     ]
    },
    {
     "data": {
      "application/vnd.jupyter.widget-view+json": {
       "model_id": "1d79a352cc6a4e5fbcd669f7627bd8c7",
       "version_major": 2,
       "version_minor": 0
      },
      "text/plain": [
       "interactive(children=(ToggleButtons(description='Plot Type:', icons=('',), options=(('Pipeline Plot', 'pipelin…"
      ]
     },
     "metadata": {},
     "output_type": "display_data"
    },
    {
     "data": {
      "text/html": [
       "<style type=\"text/css\">\n",
       "</style>\n",
       "<table id=\"T_a3fcc\">\n",
       "  <thead>\n",
       "    <tr>\n",
       "      <th class=\"blank level0\" >&nbsp;</th>\n",
       "      <th id=\"T_a3fcc_level0_col0\" class=\"col_heading level0 col0\" >Model</th>\n",
       "      <th id=\"T_a3fcc_level0_col1\" class=\"col_heading level0 col1\" >MAE</th>\n",
       "      <th id=\"T_a3fcc_level0_col2\" class=\"col_heading level0 col2\" >MSE</th>\n",
       "      <th id=\"T_a3fcc_level0_col3\" class=\"col_heading level0 col3\" >RMSE</th>\n",
       "      <th id=\"T_a3fcc_level0_col4\" class=\"col_heading level0 col4\" >R2</th>\n",
       "      <th id=\"T_a3fcc_level0_col5\" class=\"col_heading level0 col5\" >RMSLE</th>\n",
       "      <th id=\"T_a3fcc_level0_col6\" class=\"col_heading level0 col6\" >MAPE</th>\n",
       "    </tr>\n",
       "  </thead>\n",
       "  <tbody>\n",
       "    <tr>\n",
       "      <th id=\"T_a3fcc_level0_row0\" class=\"row_heading level0 row0\" >0</th>\n",
       "      <td id=\"T_a3fcc_row0_col0\" class=\"data row0 col0\" >Extreme Gradient Boosting</td>\n",
       "      <td id=\"T_a3fcc_row0_col1\" class=\"data row0 col1\" >1606.6236</td>\n",
       "      <td id=\"T_a3fcc_row0_col2\" class=\"data row0 col2\" >6029326.5999</td>\n",
       "      <td id=\"T_a3fcc_row0_col3\" class=\"data row0 col3\" >2455.4687</td>\n",
       "      <td id=\"T_a3fcc_row0_col4\" class=\"data row0 col4\" >0.9582</td>\n",
       "      <td id=\"T_a3fcc_row0_col5\" class=\"data row0 col5\" >0.1264</td>\n",
       "      <td id=\"T_a3fcc_row0_col6\" class=\"data row0 col6\" >0.0775</td>\n",
       "    </tr>\n",
       "  </tbody>\n",
       "</table>\n"
      ],
      "text/plain": [
       "<pandas.io.formats.style.Styler at 0x2f848237c10>"
      ]
     },
     "metadata": {},
     "output_type": "display_data"
    },
    {
     "name": "stdout",
     "output_type": "stream",
     "text": [
      "Transformation Pipeline and Model Successfully Saved\n"
     ]
    },
    {
     "data": {
      "text/plain": [
       "(Pipeline(memory=Memory(location=None),\n",
       "          steps=[('numerical_imputer',\n",
       "                  TransformerWrapper(include=['model', 'transmission', 'mileage',\n",
       "                                              'fuelType', 'tax', 'mpg',\n",
       "                                              'engineSize'],\n",
       "                                     transformer=SimpleImputer())),\n",
       "                 ('categorical_imputer',\n",
       "                  TransformerWrapper(include=['year'],\n",
       "                                     transformer=SimpleImputer(strategy='most_frequent'))),\n",
       "                 ('onehot_encoding',\n",
       "                  TransformerWrapper(inclu...\n",
       "                               feature_types=None, gamma=None, grow_policy=None,\n",
       "                               importance_type=None,\n",
       "                               interaction_constraints=None, learning_rate=None,\n",
       "                               max_bin=None, max_cat_threshold=None,\n",
       "                               max_cat_to_onehot=None, max_delta_step=None,\n",
       "                               max_depth=None, max_leaves=None,\n",
       "                               min_child_weight=None, missing=nan,\n",
       "                               monotone_constraints=None, multi_strategy=None,\n",
       "                               n_estimators=None, n_jobs=-1,\n",
       "                               num_parallel_tree=None, random_state=42, ...))]),\n",
       " 'regression_model.pkl')"
      ]
     },
     "execution_count": 92,
     "metadata": {},
     "output_type": "execute_result"
    }
   ],
   "source": [
    "from pycaret.regression import *\n",
    "\n",
    "# Assuming df1 is your DataFrame\n",
    "regression_setup = setup(df1, target='price', session_id=42)\n",
    "\n",
    "# Compare and evaluate regression models\n",
    "best_model = compare_models()\n",
    "\n",
    "# Tune the best model\n",
    "tuned_model = tune_model(best_model)\n",
    "\n",
    "# Evaluate the tuned model\n",
    "evaluate_model(tuned_model)\n",
    "\n",
    "# Make predictions on new data\n",
    "predict_model(tuned_model)\n",
    "\n",
    "# Finalize the model for deployment\n",
    "final_model = finalize_model(tuned_model)\n",
    "\n",
    "# Save the model\n",
    "save_model(final_model, 'regression_model')\n"
   ]
  },
  {
   "cell_type": "markdown",
   "id": "3510db9a",
   "metadata": {},
   "source": [
    "# Xgboost"
   ]
  }
 ],
 "metadata": {
  "kernelspec": {
   "display_name": "Python 3 (ipykernel)",
   "language": "python",
   "name": "python3"
  },
  "language_info": {
   "codemirror_mode": {
    "name": "ipython",
    "version": 3
   },
   "file_extension": ".py",
   "mimetype": "text/x-python",
   "name": "python",
   "nbconvert_exporter": "python",
   "pygments_lexer": "ipython3",
   "version": "3.10.13"
  }
 },
 "nbformat": 4,
 "nbformat_minor": 5
}
